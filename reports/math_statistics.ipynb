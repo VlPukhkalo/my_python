{
 "cells": [
  {
   "cell_type": "markdown",
   "metadata": {},
   "source": [
    "Задание 1.\n",
    "С помощью модуля math вычислить площадь круга с радиусом =  логорифм e по основанию 2"
   ]
  },
  {
   "cell_type": "code",
   "execution_count": 9,
   "metadata": {},
   "outputs": [
    {
     "name": "stdout",
     "output_type": "stream",
     "text": [
      "6.538813500136891\n"
     ]
    }
   ],
   "source": [
    "#S=π*R^2\n",
    "import math\n",
    "print(math.pi*pow(math.log(math.e,2),2))"
   ]
  },
  {
   "cell_type": "markdown",
   "metadata": {},
   "source": [
    "Задание 2.\n",
    "С помощью модуля statistics найдите population variance и population standart deviation от последовательности среднего арифметического, среднего геометрического и среднего гармонического от 30 случайных чисел"
   ]
  },
  {
   "cell_type": "code",
   "execution_count": null,
   "metadata": {},
   "outputs": [],
   "source": [
    "import statistics as st\n",
    "import random as r\n",
    "lst=r.sample(range(-100, 100), 30)\n",
    "lst2=[st.mean(lst),st.geometric_mean(lst),st.harmonic_mean(lst)]\n",
    "print(st.pvariance(lst2),st.pstdev(lst))"
   ]
  }
 ],
 "metadata": {
  "kernelspec": {
   "display_name": "Python 3",
   "language": "python",
   "name": "python3"
  },
  "language_info": {
   "codemirror_mode": {
    "name": "ipython",
    "version": 3
   },
   "file_extension": ".py",
   "mimetype": "text/x-python",
   "name": "python",
   "nbconvert_exporter": "python",
   "pygments_lexer": "ipython3",
   "version": "3.7.4"
  }
 },
 "nbformat": 4,
 "nbformat_minor": 2
}
