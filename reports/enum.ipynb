{
 "cells": [
  {
   "cell_type": "markdown",
   "metadata": {},
   "source": [
    "1 задание"
   ]
  },
  {
   "cell_type": "code",
   "execution_count": 30,
   "metadata": {},
   "outputs": [
    {
     "name": "stdout",
     "output_type": "stream",
     "text": [
      "aanndd\n"
     ]
    },
    {
     "data": {
      "text/plain": [
       "[{'a': 2}, {'n': 2}, {'d': 2}]"
      ]
     },
     "execution_count": 30,
     "metadata": {},
     "output_type": "execute_result"
    }
   ],
   "source": [
    "import collections as cl\n",
    "s=input()\n",
    "c=cl.Counter(s)\n",
    "[{i:c.get(i)} for i in c.keys() if c.get(i)==min(c.values())]"
   ]
  },
  {
   "cell_type": "markdown",
   "metadata": {},
   "source": [
    "2 задание"
   ]
  },
  {
   "cell_type": "code",
   "execution_count": 10,
   "metadata": {},
   "outputs": [],
   "source": [
    "from enum import Enum"
   ]
  },
  {
   "cell_type": "code",
   "execution_count": 91,
   "metadata": {},
   "outputs": [],
   "source": [
    "class my_enum(Enum):\n",
    "    e=1.7\n",
    "    e1=2 \n",
    "    e2=\"3\"\n",
    "    e3=4\n",
    "    e4=\"abc\""
   ]
  },
  {
   "cell_type": "code",
   "execution_count": 92,
   "metadata": {},
   "outputs": [
    {
     "name": "stdout",
     "output_type": "stream",
     "text": [
      "a0 5.1\n",
      "a1 6\n",
      "a2 333\n",
      "a3 12\n",
      "a4 abcabcabc\n",
      "a5 1\n"
     ]
    }
   ],
   "source": [
    "new=list( map(lambda i:i*3, [member.value for name, member in my_enum.__members__.items()] ) ) + [1]\n",
    "new_enum = Enum('new_enum', [(f\"a{i}\",new[i]) for i in range(len(new))])\n",
    "for name, member in new_enum.__members__.items():\n",
    "    print(name, member.value)"
   ]
  },
  {
   "cell_type": "code",
   "execution_count": 105,
   "metadata": {},
   "outputs": [],
   "source": [
    "from enum import IntEnum\n",
    "class my_enum(IntEnum):\n",
    "    e=1.7\n",
    "    e1=2 \n",
    "    e2=9\n",
    "    e3=4\n",
    "    e4=34567\n",
    "class t(IntEnum):\n",
    "    three = 3"
   ]
  },
  {
   "cell_type": "code",
   "execution_count": 106,
   "metadata": {},
   "outputs": [
    {
     "name": "stdout",
     "output_type": "stream",
     "text": [
      "a0 3\n",
      "a1 6\n",
      "a2 27\n",
      "a3 12\n",
      "a4 103701\n",
      "a5 1\n"
     ]
    }
   ],
   "source": [
    "new=list( map(lambda i: i * t.three, [member for name, member in my_enum.__members__.items()] ) ) + [1]\n",
    "new_enum = IntEnum('new_enum', [(f\"a{i}\",new[i]) for i in range(len(new))])\n",
    "for name, member in new_enum.__members__.items():\n",
    "    print(name, member.value)"
   ]
  }
 ],
 "metadata": {
  "kernelspec": {
   "display_name": "Python 3",
   "language": "python",
   "name": "python3"
  },
  "language_info": {
   "codemirror_mode": {
    "name": "ipython",
    "version": 3
   },
   "file_extension": ".py",
   "mimetype": "text/x-python",
   "name": "python",
   "nbconvert_exporter": "python",
   "pygments_lexer": "ipython3",
   "version": "3.7.4"
  }
 },
 "nbformat": 4,
 "nbformat_minor": 2
}
