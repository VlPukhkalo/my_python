{
 "cells": [
  {
   "cell_type": "markdown",
   "metadata": {},
   "source": [
    "Задание 1"
   ]
  },
  {
   "cell_type": "markdown",
   "metadata": {},
   "source": [
    "Можно ли смешивать числа типа decimal с объектами типа int? float?\n",
    "\n",
    "С Decimal можно использовать целые числа, однако смешивать с типом float десятичные дроби неограниченной точности невозможно\n",
    "\n",
    "Какие атрибуты и методы fractions вы знаете?\n",
    "\n",
    "x.numerator\n",
    "x.denominator\n",
    "Fraction.from_float(flt)\n",
    "Fraction.from_decimal(dec) \n",
    "Fraction.limit_denominator(max_denominator=10...)\n",
    "x.floor() \n",
    "x.ceil()\n",
    "x.round()\n",
    "\n",
    "За что отвечает третий аргумент метода модуля random randome.randrange(a,b,x)? Обязателен ли он для задания?\n",
    "\n",
    "Это шаг, с которым генерируются числа. Он не обязателен и по умолчанию равен 1. "
   ]
  },
  {
   "cell_type": "markdown",
   "metadata": {},
   "source": [
    "Задание 2"
   ]
  },
  {
   "cell_type": "code",
   "execution_count": 19,
   "metadata": {},
   "outputs": [
    {
     "name": "stdout",
     "output_type": "stream",
     "text": [
      "35.45\n",
      "35 45\n"
     ]
    }
   ],
   "source": [
    "from decimal import * \n",
    "import math\n",
    "from fractions import *\n",
    "x=float(input())\n",
    "print( math.floor(x), int((Decimal(str(x)) - Decimal(str(math.floor(x))))*100))"
   ]
  },
  {
   "cell_type": "markdown",
   "metadata": {},
   "source": [
    "Задание 3"
   ]
  },
  {
   "cell_type": "code",
   "execution_count": 42,
   "metadata": {},
   "outputs": [
    {
     "data": {
      "text/plain": [
       "8"
      ]
     },
     "execution_count": 42,
     "metadata": {},
     "output_type": "execute_result"
    }
   ],
   "source": [
    "import random\n",
    "random.choice(range(6,13,2))"
   ]
  }
 ],
 "metadata": {
  "kernelspec": {
   "display_name": "Python 3",
   "language": "python",
   "name": "python3"
  },
  "language_info": {
   "codemirror_mode": {
    "name": "ipython",
    "version": 3
   },
   "file_extension": ".py",
   "mimetype": "text/x-python",
   "name": "python",
   "nbconvert_exporter": "python",
   "pygments_lexer": "ipython3",
   "version": "3.7.4"
  }
 },
 "nbformat": 4,
 "nbformat_minor": 2
}
