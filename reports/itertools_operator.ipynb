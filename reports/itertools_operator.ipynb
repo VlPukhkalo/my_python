{
 "cells": [
  {
   "cell_type": "markdown",
   "metadata": {},
   "source": [
    "Задание 1 "
   ]
  },
  {
   "cell_type": "code",
   "execution_count": null,
   "metadata": {},
   "outputs": [],
   "source": [
    "from itertools import cycle, compress\n",
    "\n",
    "\n",
    "def even_nums():\n",
    "    c = cycle([1, 2])\n",
    "    com = list(compress(c, [True if i % 2 == 1 else False for i in range(11)]))\n",
    "    return [com[i - 1] * i for i in range(len(com) + 1)]\n",
    "    \n",
    "\n",
    "even_nums() == [0, 2, 4, 6, 8, 10]"
   ]
  },
  {
   "cell_type": "markdown",
   "metadata": {},
   "source": [
    "Задание 2"
   ]
  },
  {
   "cell_type": "code",
   "execution_count": 31,
   "metadata": {},
   "outputs": [],
   "source": [
    "from functools import reduce \n",
    "\n",
    "\n",
    "def from_digits(digits = []):\n",
    "    if digits == []:\n",
    "        return \"Error: 'Список цифр должен быть не пуст!'\"\n",
    "    else:\n",
    "        return int(reduce(lambda a, b: str(a) + str(b), digits))\n",
    "\n",
    "\n",
    "assert from_digits(digits = [1, 0, 2]) == 102\n",
    "assert from_digits(digits = [3, 2, 1, 4, 5, 7]) == 321457\n",
    "assert from_digits(digits = []) == \"Error: 'Список цифр должен быть не пуст!'\""
   ]
  },
  {
   "cell_type": "markdown",
   "metadata": {},
   "source": [
    "Задание 3"
   ]
  },
  {
   "cell_type": "code",
   "execution_count": 66,
   "metadata": {},
   "outputs": [],
   "source": [
    "from operator import lt\n",
    "\n",
    "\n",
    "def sort_dict(a):\n",
    "    listt = []\n",
    "    listt1 = []\n",
    "    for i in a:\n",
    "        listt.append(a[i])\n",
    "    for i in range(len(a)):\n",
    "        listt1.append(list(a.keys())[i])\n",
    "    for j in range(len(listt)):\n",
    "        for i in range(len(listt) - j - 1):\n",
    "            if not lt(listt[i], listt[i + 1]):\n",
    "                listt[i], listt[i + 1] = listt[i + 1], listt[i]\n",
    "                listt1[i], listt1[i + 1] = listt1[i + 1], listt1[i]\n",
    "\n",
    "    return {listt1[i]: listt[i] for i in range(len(listt))}\n",
    "\n",
    "assert sort_dict({1: -10, 2: 10, 3: 0}) == {1: -10, 3: 0, 2: 10}\n",
    "assert sort_dict({1: -1, 2: -2, 3: -6}) == {3: -6, 2: -2, 1: -1}\n",
    "assert sort_dict({}) == {}"
   ]
  },
  {
   "cell_type": "code",
   "execution_count": null,
   "metadata": {},
   "outputs": [],
   "source": []
  }
 ],
 "metadata": {
  "kernelspec": {
   "display_name": "Python 3",
   "language": "python",
   "name": "python3"
  },
  "language_info": {
   "codemirror_mode": {
    "name": "ipython",
    "version": 3
   },
   "file_extension": ".py",
   "mimetype": "text/x-python",
   "name": "python",
   "nbconvert_exporter": "python",
   "pygments_lexer": "ipython3",
   "version": "3.7.4"
  }
 },
 "nbformat": 4,
 "nbformat_minor": 2
}
