{
 "cells": [
  {
   "cell_type": "code",
   "execution_count": 42,
   "metadata": {},
   "outputs": [
    {
     "name": "stdout",
     "output_type": "stream",
     "text": [
      "[3.1604, 3.162, 3.1459, 1706.0, 1737.0] \n",
      " 5 \n",
      " 3452.4683 \n",
      " 1737.0\n"
     ]
    }
   ],
   "source": [
    "s = '''В разные эпохи и у разных народов число Пи имело разное значение. Например, в Древнем Египте оно равнялось 3.1604 у индусов оно приобрело значение 3.162 китайцы пользовались числом, равным 3.1459 Буквенное обозначение число Пи получило только в 1706 году – оно происходит от начальных букв двух греческих слов, означающих окружность и периметр. Буквой π число наделил математик Джонс, а прочно вошла в математику она уже в 1737 году.'''\n",
    "s=s.split()\n",
    "s=[i for i in s if ('').join(i.split('.')).isdigit()]\n",
    "d=list(map(float,s))\n",
    "print(d,'\\n',len(d),'\\n',sum(d),'\\n',max(d))"
   ]
  }
 ],
 "metadata": {
  "kernelspec": {
   "display_name": "Python 3",
   "language": "python",
   "name": "python3"
  },
  "language_info": {
   "codemirror_mode": {
    "name": "ipython",
    "version": 3
   },
   "file_extension": ".py",
   "mimetype": "text/x-python",
   "name": "python",
   "nbconvert_exporter": "python",
   "pygments_lexer": "ipython3",
   "version": "3.7.4"
  }
 },
 "nbformat": 4,
 "nbformat_minor": 2
}
