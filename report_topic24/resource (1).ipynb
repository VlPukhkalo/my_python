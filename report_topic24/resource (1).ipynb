{
  "nbformat": 4,
  "nbformat_minor": 0,
  "metadata": {
    "colab": {
      "name": "resource.ipynb",
      "provenance": [],
      "collapsed_sections": []
    },
    "kernelspec": {
      "name": "python3",
      "display_name": "Python 3"
    }
  },
  "cells": [
    {
      "cell_type": "markdown",
      "metadata": {
        "id": "zEhv_fahUOv6"
      },
      "source": [
        ""
      ]
    },
    {
      "cell_type": "markdown",
      "metadata": {
        "id": "WqukmWxYUQYy"
      },
      "source": [
        "# **Модуль resource**"
      ]
    },
    {
      "cell_type": "markdown",
      "metadata": {
        "id": "Y6YWZOAGZAmj"
      },
      "source": [
        "[официальная документация](https://docs.python.org/3.7/library/resource.html)"
      ]
    },
    {
      "cell_type": "code",
      "metadata": {
        "id": "oTMlfrnpUpyN"
      },
      "source": [
        "import resource"
      ],
      "execution_count": null,
      "outputs": []
    },
    {
      "cell_type": "markdown",
      "metadata": {
        "id": "C5EGcpZVWMgm"
      },
      "source": [
        "В следующем примере представлены некоторые ресурсы, досупные для измерения"
      ]
    },
    {
      "cell_type": "code",
      "metadata": {
        "id": "y8biwY-FU8N2",
        "outputId": "9a289c46-2f33-4133-d8f2-bbd18b0a4880",
        "colab": {
          "base_uri": "https://localhost:8080/"
        }
      },
      "source": [
        "import time\n",
        "RESOURCES = [\n",
        "('ru_utime', 'User time'),\n",
        "('ru_stime', 'System time'),\n",
        "('ru_maxrss', 'Max. Resident Set Size'),\n",
        "('ru_ixrss', 'Shared Memory Size'),\n",
        "('ru_idrss', 'Unshared Memory Size'),\n",
        "('ru_isrss', 'Stack Size'),\n",
        "('ru_inblock', 'Block inputs'),\n",
        "('ru_oublock', 'Block outputs'),\n",
        "]\n",
        "usage = resource.getrusage(resource.RUSAGE_SELF) #возвращает статистику по использованию ресурсов процессов\n",
        "for name, desc in RESOURCES:\n",
        "    print('{:<25} ({:<10}) = {}'.format(desc, name, getattr(usage, name)))"
      ],
      "execution_count": null,
      "outputs": [
        {
          "output_type": "stream",
          "text": [
            "User time                 (ru_utime  ) = 1.5231729999999999\n",
            "System time               (ru_stime  ) = 0.351846\n",
            "Max. Resident Set Size    (ru_maxrss ) = 107676\n",
            "Shared Memory Size        (ru_ixrss  ) = 0\n",
            "Unshared Memory Size      (ru_idrss  ) = 0\n",
            "Stack Size                (ru_isrss  ) = 0\n",
            "Block inputs              (ru_inblock) = 1344\n",
            "Block outputs             (ru_oublock) = 8\n"
          ],
          "name": "stdout"
        }
      ]
    },
    {
      "cell_type": "markdown",
      "metadata": {
        "id": "A0Xy2Q5RbvRi"
      },
      "source": [
        "Кроме определения текущего фактического потребления ресурсов можно проверять действующие ограничения, налагаемые на приложение, и при необходимости изменять их."
      ]
    },
    {
      "cell_type": "code",
      "metadata": {
        "id": "zfj-QERmXWnl",
        "outputId": "f230044a-b67c-4ad0-db26-6753fbdfc239",
        "colab": {
          "base_uri": "https://localhost:8080/"
        }
      },
      "source": [
        "LIMITS = [\n",
        "('RLIMIT_CORE', 'core file size'),\n",
        "('RLIMIT_CPU', 'CPU time'),\n",
        "('RLIMIT_FSIZE', 'file size'),\n",
        "('RLIMIT_DATA', 'heap size'),\n",
        "('RLIMIT_STACK', 'stack size'),\n",
        "('RLIMIT_RSS', 'resident set size'),\n",
        "('RLIMIT_NPROC', 'number of processes'),\n",
        "('RLIMIT_NOFILE', 'number of open files'),\n",
        "('RLIMIT_MEMLOCK', 'lockable memory address'),\n",
        "]\n",
        "print('Resource limits (soft/hard):')\n",
        "for name, desc in LIMITS:\n",
        "  limit_num = getattr(resource, name)\n",
        "  soft, hard = resource.getrlimit(limit_num)\n",
        "  print('{:<23} {}/{}'.format(desc, soft, hard))"
      ],
      "execution_count": null,
      "outputs": [
        {
          "output_type": "stream",
          "text": [
            "Resource limits (soft/hard):\n",
            "core file size          -1/-1\n",
            "CPU time                -1/-1\n",
            "file size               -1/-1\n",
            "heap size               -1/-1\n",
            "stack size              8388608/-1\n",
            "resident set size       -1/-1\n",
            "number of processes     -1/-1\n",
            "number of open files    1048576/1048576\n",
            "lockable memory address 16777216/16777216\n"
          ],
          "name": "stdout"
        }
      ]
    },
    {
      "cell_type": "markdown",
      "metadata": {
        "id": "_psi9sYncIal"
      },
      "source": [
        "Чтобы изменить предельные значения, следует использовать функцию\n",
        "**setrlimit()**"
      ]
    },
    {
      "cell_type": "markdown",
      "metadata": {
        "id": "UcZlZ6-AcwCV"
      },
      "source": [
        "В этом примере атрибут RLIMIT_NOFILE используется для управления разрешенным количеством одновременно открытых файлов, устанавливая для него\n",
        "слабое ограничение науровне ниже того, который предусмотрен по умолчанию."
      ]
    },
    {
      "cell_type": "code",
      "metadata": {
        "id": "u9QDQvwNcKLZ",
        "outputId": "1ec199ab-2ecf-425c-c969-5c5f41f4d997",
        "colab": {
          "base_uri": "https://localhost:8080/",
          "height": 270
        }
      },
      "source": [
        "import os\n",
        "soft, hard = resource.getrlimit(resource.RLIMIT_NOFILE)\n",
        "print('Soft limit starts as :', soft)\n",
        "resource.setrlimit(resource.RLIMIT_NOFILE, (4, hard))\n",
        "soft, hard = resource.getrlimit(resource.RLIMIT_NOFILE)\n",
        "print('Soft limit changed to :', soft)\n",
        "random = open('/dev/random', 'r')\n",
        "print('random has fd =', random.fileno())\n",
        "try:\n",
        "  null = open('/dev/null', 'w')\n",
        "except IOError as err:\n",
        "  print(err)\n",
        "else:\n",
        "  print('null has fd =', null.fileno())\n"
      ],
      "execution_count": null,
      "outputs": [
        {
          "output_type": "stream",
          "text": [
            "Soft limit starts as : 1048576\n",
            "Soft limit changed to : 4\n"
          ],
          "name": "stdout"
        },
        {
          "output_type": "error",
          "ename": "OSError",
          "evalue": "ignored",
          "traceback": [
            "\u001b[0;31m---------------------------------------------------------------------------\u001b[0m",
            "\u001b[0;31mOSError\u001b[0m                                   Traceback (most recent call last)",
            "\u001b[0;32m<ipython-input-14-31193f300cb9>\u001b[0m in \u001b[0;36m<module>\u001b[0;34m()\u001b[0m\n\u001b[1;32m      5\u001b[0m \u001b[0msoft\u001b[0m\u001b[0;34m,\u001b[0m \u001b[0mhard\u001b[0m \u001b[0;34m=\u001b[0m \u001b[0mresource\u001b[0m\u001b[0;34m.\u001b[0m\u001b[0mgetrlimit\u001b[0m\u001b[0;34m(\u001b[0m\u001b[0mresource\u001b[0m\u001b[0;34m.\u001b[0m\u001b[0mRLIMIT_NOFILE\u001b[0m\u001b[0;34m)\u001b[0m\u001b[0;34m\u001b[0m\u001b[0;34m\u001b[0m\u001b[0m\n\u001b[1;32m      6\u001b[0m \u001b[0mprint\u001b[0m\u001b[0;34m(\u001b[0m\u001b[0;34m'Soft limit changed to :'\u001b[0m\u001b[0;34m,\u001b[0m \u001b[0msoft\u001b[0m\u001b[0;34m)\u001b[0m\u001b[0;34m\u001b[0m\u001b[0;34m\u001b[0m\u001b[0m\n\u001b[0;32m----> 7\u001b[0;31m \u001b[0mrandom\u001b[0m \u001b[0;34m=\u001b[0m \u001b[0mopen\u001b[0m\u001b[0;34m(\u001b[0m\u001b[0;34m'/dev/random'\u001b[0m\u001b[0;34m,\u001b[0m \u001b[0;34m'r'\u001b[0m\u001b[0;34m)\u001b[0m\u001b[0;34m\u001b[0m\u001b[0;34m\u001b[0m\u001b[0m\n\u001b[0m\u001b[1;32m      8\u001b[0m \u001b[0mprint\u001b[0m\u001b[0;34m(\u001b[0m\u001b[0;34m'random has fd ='\u001b[0m\u001b[0;34m,\u001b[0m \u001b[0mrandom\u001b[0m\u001b[0;34m.\u001b[0m\u001b[0mfileno\u001b[0m\u001b[0;34m(\u001b[0m\u001b[0;34m)\u001b[0m\u001b[0;34m)\u001b[0m\u001b[0;34m\u001b[0m\u001b[0;34m\u001b[0m\u001b[0m\n\u001b[1;32m      9\u001b[0m \u001b[0;32mtry\u001b[0m\u001b[0;34m:\u001b[0m\u001b[0;34m\u001b[0m\u001b[0;34m\u001b[0m\u001b[0m\n",
            "\u001b[0;31mOSError\u001b[0m: [Errno 24] Too many open files: '/dev/random'"
          ]
        }
      ]
    },
    {
      "cell_type": "markdown",
      "metadata": {
        "id": "a4E_6djwc1j9"
      },
      "source": [
        "Также полезно ограничивать количество времени CPU, выделяемое процессу\n",
        "для выполнения, чтобы не допустить чрезмерно длительного владения этим ресурсом. Если длительность выполнения процесса превышает установленный предел, он получает сигнал SIGXCPU."
      ]
    },
    {
      "cell_type": "markdown",
      "metadata": {
        "id": "198GH8oieHVu"
      },
      "source": [
        "Обычно обработчик сигнала сбрасывает на диск содержимое всех открытых\n",
        "файлов и закрывает их, но в данном случае он всего лишь выводит сообщение и\n",
        "осуществляет выход из программы."
      ]
    },
    {
      "cell_type": "code",
      "metadata": {
        "id": "AgRzW4Ntc4Ir",
        "outputId": "15b93a01-57cd-4631-efe6-49ac42ae89c0",
        "colab": {
          "base_uri": "https://localhost:8080/",
          "height": 485
        }
      },
      "source": [
        "import sys\n",
        "import signal\n",
        "import time\n",
        "# Установить обработчик сигнала, уведомляющий\n",
        "# о превышении выделенного лимита процессорного времени\n",
        "def time_expired(n, stack):\n",
        "  print('EXPIRED :', time.ctime())\n",
        "  raise SystemExit('(time ran out)')\n",
        "\n",
        "signal.signal(signal.SIGXCPU, time_expired)\n",
        "# Настроить лимит времени CPU\n",
        "soft, hard = resource.getrlimit(resource.RLIMIT_CPU)\n",
        "print('Soft limit starts as :', soft)\n",
        "resource.setrlimit(resource.RLIMIT_CPU, (1, hard))\n",
        "soft, hard = resource.getrlimit(resource.RLIMIT_CPU)\n",
        "print('Soft limit changed to :', soft)\n",
        "print()\n",
        "# Израсходовать некоторое количество времени CPU\n",
        "# для проведения длительных вычислений в цикле\n",
        "print('Starting:', time.ctime())\n",
        "for i in range(200000):\n",
        "  for i in range(200000):\n",
        "    v = i * i\n",
        "    # Эта инструкция не будет достигнута\n",
        "print('Exiting :', time.ctime())"
      ],
      "execution_count": null,
      "outputs": [
        {
          "output_type": "stream",
          "text": [
            "Soft limit starts as : -1\n",
            "Soft limit changed to : 1\n",
            "\n",
            "Starting: Wed Oct 28 23:08:16 2020\n",
            "EXPIRED : Wed Oct 28 23:08:16 2020\n",
            "EXPIRED : Wed Oct 28 23:08:16 2020\n"
          ],
          "name": "stdout"
        },
        {
          "output_type": "error",
          "ename": "SystemExit",
          "evalue": "ignored",
          "traceback": [
            "\u001b[0;31m---------------------------------------------------------------------------\u001b[0m",
            "\u001b[0;31mSystemExit\u001b[0m                                Traceback (most recent call last)",
            "\u001b[0;32m/usr/local/lib/python3.6/dist-packages/IPython/core/interactiveshell.py\u001b[0m in \u001b[0;36mrun_code\u001b[0;34m(self, code_obj, result)\u001b[0m\n",
            "\u001b[0;32m<ipython-input-19-68d1c941e2c4>\u001b[0m in \u001b[0;36m<module>\u001b[0;34m()\u001b[0m\n\u001b[1;32m     22\u001b[0m   \u001b[0;32mfor\u001b[0m \u001b[0mi\u001b[0m \u001b[0;32min\u001b[0m \u001b[0mrange\u001b[0m\u001b[0;34m(\u001b[0m\u001b[0;36m200000\u001b[0m\u001b[0;34m)\u001b[0m\u001b[0;34m:\u001b[0m\u001b[0;34m\u001b[0m\u001b[0;34m\u001b[0m\u001b[0m\n\u001b[0;32m---> 23\u001b[0;31m     \u001b[0mv\u001b[0m \u001b[0;34m=\u001b[0m \u001b[0mi\u001b[0m \u001b[0;34m*\u001b[0m \u001b[0mi\u001b[0m\u001b[0;34m\u001b[0m\u001b[0;34m\u001b[0m\u001b[0m\n\u001b[0m\u001b[1;32m     24\u001b[0m     \u001b[0;31m# Эта инструкция не будет достигнута\u001b[0m\u001b[0;34m\u001b[0m\u001b[0;34m\u001b[0m\u001b[0;34m\u001b[0m\u001b[0m\n",
            "\u001b[0;32m<ipython-input-19-68d1c941e2c4>\u001b[0m in \u001b[0;36mtime_expired\u001b[0;34m(n, stack)\u001b[0m\n\u001b[1;32m      7\u001b[0m   \u001b[0mprint\u001b[0m\u001b[0;34m(\u001b[0m\u001b[0;34m'EXPIRED :'\u001b[0m\u001b[0;34m,\u001b[0m \u001b[0mtime\u001b[0m\u001b[0;34m.\u001b[0m\u001b[0mctime\u001b[0m\u001b[0;34m(\u001b[0m\u001b[0;34m)\u001b[0m\u001b[0;34m)\u001b[0m\u001b[0;34m\u001b[0m\u001b[0;34m\u001b[0m\u001b[0m\n\u001b[0;32m----> 8\u001b[0;31m   \u001b[0;32mraise\u001b[0m \u001b[0mSystemExit\u001b[0m\u001b[0;34m(\u001b[0m\u001b[0;34m'(time ran out)'\u001b[0m\u001b[0;34m)\u001b[0m\u001b[0;34m\u001b[0m\u001b[0;34m\u001b[0m\u001b[0m\n\u001b[0m\u001b[1;32m      9\u001b[0m \u001b[0;34m\u001b[0m\u001b[0m\n",
            "\u001b[0;31mSystemExit\u001b[0m: (time ran out)",
            "\nDuring handling of the above exception, another exception occurred:\n",
            "\u001b[0;31mSystemExit\u001b[0m                                Traceback (most recent call last)",
            "\u001b[0;32m/usr/local/lib/python3.6/dist-packages/IPython/core/interactiveshell.py\u001b[0m in \u001b[0;36mrun_code\u001b[0;34m(self, code_obj, result)\u001b[0m\n",
            "\u001b[0;32m/usr/local/lib/python3.6/dist-packages/IPython/core/interactiveshell.py\u001b[0m in \u001b[0;36mshowtraceback\u001b[0;34m(self, exc_tuple, filename, tb_offset, exception_only)\u001b[0m\n",
            "\u001b[0;32m/usr/local/lib/python3.6/dist-packages/google/colab/_shell.py\u001b[0m in \u001b[0;36m_showtraceback\u001b[0;34m(self, etype, evalue, stb)\u001b[0m\n",
            "\u001b[0;32m/usr/local/lib/python3.6/dist-packages/ipykernel/iostream.py\u001b[0m in \u001b[0;36mflush\u001b[0;34m(self)\u001b[0m\n",
            "\u001b[0;32m/usr/lib/python3.6/threading.py\u001b[0m in \u001b[0;36mwait\u001b[0;34m(self, timeout)\u001b[0m\n",
            "\u001b[0;32m/usr/lib/python3.6/threading.py\u001b[0m in \u001b[0;36mwait\u001b[0;34m(self, timeout)\u001b[0m\n",
            "\u001b[0;32m<ipython-input-19-68d1c941e2c4>\u001b[0m in \u001b[0;36mtime_expired\u001b[0;34m(n, stack)\u001b[0m\n\u001b[1;32m      6\u001b[0m \u001b[0;32mdef\u001b[0m \u001b[0mtime_expired\u001b[0m\u001b[0;34m(\u001b[0m\u001b[0mn\u001b[0m\u001b[0;34m,\u001b[0m \u001b[0mstack\u001b[0m\u001b[0;34m)\u001b[0m\u001b[0;34m:\u001b[0m\u001b[0;34m\u001b[0m\u001b[0;34m\u001b[0m\u001b[0m\n\u001b[1;32m      7\u001b[0m   \u001b[0mprint\u001b[0m\u001b[0;34m(\u001b[0m\u001b[0;34m'EXPIRED :'\u001b[0m\u001b[0;34m,\u001b[0m \u001b[0mtime\u001b[0m\u001b[0;34m.\u001b[0m\u001b[0mctime\u001b[0m\u001b[0;34m(\u001b[0m\u001b[0;34m)\u001b[0m\u001b[0;34m)\u001b[0m\u001b[0;34m\u001b[0m\u001b[0;34m\u001b[0m\u001b[0m\n\u001b[0;32m----> 8\u001b[0;31m   \u001b[0;32mraise\u001b[0m \u001b[0mSystemExit\u001b[0m\u001b[0;34m(\u001b[0m\u001b[0;34m'(time ran out)'\u001b[0m\u001b[0;34m)\u001b[0m\u001b[0;34m\u001b[0m\u001b[0;34m\u001b[0m\u001b[0m\n\u001b[0m\u001b[1;32m      9\u001b[0m \u001b[0;34m\u001b[0m\u001b[0m\n\u001b[1;32m     10\u001b[0m \u001b[0msignal\u001b[0m\u001b[0;34m.\u001b[0m\u001b[0msignal\u001b[0m\u001b[0;34m(\u001b[0m\u001b[0msignal\u001b[0m\u001b[0;34m.\u001b[0m\u001b[0mSIGXCPU\u001b[0m\u001b[0;34m,\u001b[0m \u001b[0mtime_expired\u001b[0m\u001b[0;34m)\u001b[0m\u001b[0;34m\u001b[0m\u001b[0;34m\u001b[0m\u001b[0m\n",
            "\u001b[0;31mSystemExit\u001b[0m: (time ran out)"
          ]
        }
      ]
    },
    {
      "cell_type": "code",
      "metadata": {
        "id": "UdFiDmh4dTQe"
      },
      "source": [
        ""
      ],
      "execution_count": null,
      "outputs": []
    }
  ]
}