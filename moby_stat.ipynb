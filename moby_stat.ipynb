{
 "cells": [
  {
   "cell_type": "code",
   "execution_count": 45,
   "metadata": {},
   "outputs": [
    {
     "name": "stdout",
     "output_type": "stream",
     "text": [
      "реже всего встречаются: ['call', 'ishmael', 'years', 'agonever', 'mind'] \n",
      " чаще всего встречаются: ['it', 'is', 'i', 'of', 'the']\n"
     ]
    }
   ],
   "source": [
    "def histogram(s):\n",
    "    word_count = {}\n",
    "    for word in s:\n",
    "        word_count.setdefault(word, 0)  \n",
    "        word_count[word] += 1        \n",
    "    return word_count\n",
    "with open('moby_clean.txt','r') as moby:\n",
    "    read=moby.readlines()\n",
    "    h=histogram(list(map(f,read)))\n",
    "def f(str):\n",
    "    return(str[:-1])\n",
    "l = list(h.items())\n",
    "l.sort(key=lambda i: i[1])\n",
    "min_c=[]\n",
    "max_c=[]\n",
    "for i in l[:5]:\n",
    "    min_c.append(i[0])\n",
    "for i in l[-5:]:\n",
    "    max_c.append(i[0])\n",
    "print(\"реже всего встречаются:\",min_c,\"\\n\",\"чаще всего встречаются:\",max_c)"
   ]
  },
  {
   "cell_type": "code",
   "execution_count": null,
   "metadata": {},
   "outputs": [],
   "source": []
  }
 ],
 "metadata": {
  "kernelspec": {
   "display_name": "Python 3",
   "language": "python",
   "name": "python3"
  },
  "language_info": {
   "codemirror_mode": {
    "name": "ipython",
    "version": 3
   },
   "file_extension": ".py",
   "mimetype": "text/x-python",
   "name": "python",
   "nbconvert_exporter": "python",
   "pygments_lexer": "ipython3",
   "version": "3.7.4"
  }
 },
 "nbformat": 4,
 "nbformat_minor": 2
}
