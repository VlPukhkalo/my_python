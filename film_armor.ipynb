{
 "cells": [
  {
   "cell_type": "code",
   "execution_count": 1,
   "metadata": {},
   "outputs": [],
   "source": [
    "m={}"
   ]
  },
  {
   "cell_type": "code",
   "execution_count": 6,
   "metadata": {},
   "outputs": [
    {
     "name": "stdout",
     "output_type": "stream",
     "text": [
      "Введите ряд: 11\n",
      "Введите место: 13\n",
      "Такого места нет в зале\n"
     ]
    }
   ],
   "source": [
    "i=10 #количество рядов\n",
    "j=24 #количество мест в ряду\n",
    "r=int(input('Введите ряд: '))\n",
    "p=int(input('Введите место: '))\n",
    "if r<=i and p<=j:\n",
    "    if m.get((r,p),0)==0:\n",
    "        print('Место забронировано')\n",
    "        m.update({(r,p):1})\n",
    "    else:\n",
    "        print('Место уже занято')\n",
    "else:\n",
    "    print('Такого места нет в зале')\n"
   ]
  }
 ],
 "metadata": {
  "kernelspec": {
   "display_name": "Python 3",
   "language": "python",
   "name": "python3"
  },
  "language_info": {
   "codemirror_mode": {
    "name": "ipython",
    "version": 3
   },
   "file_extension": ".py",
   "mimetype": "text/x-python",
   "name": "python",
   "nbconvert_exporter": "python",
   "pygments_lexer": "ipython3",
   "version": "3.7.4"
  }
 },
 "nbformat": 4,
 "nbformat_minor": 2
}
