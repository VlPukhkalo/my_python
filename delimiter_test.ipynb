{
 "cells": [
  {
   "cell_type": "code",
   "execution_count": 41,
   "metadata": {},
   "outputs": [
    {
     "name": "stdout",
     "output_type": "stream",
     "text": [
      "Скобки симметричны\n"
     ]
    }
   ],
   "source": [
    "r=[]\n",
    "w='([{}])'\n",
    "for i in w:\n",
    "    r.append(i)\n",
    "    if r[-2:]==['{','}'] or r[-2:]==['[',']'] or r[-2:]==['(',')']:\n",
    "        del r[-2:]\n",
    "if r==[]:\n",
    "    print('Скобки симметричны')\n",
    "else:\n",
    "    print('Скобки не симметричны')"
   ]
  }
 ],
 "metadata": {
  "kernelspec": {
   "display_name": "Python 3",
   "language": "python",
   "name": "python3"
  },
  "language_info": {
   "codemirror_mode": {
    "name": "ipython",
    "version": 3
   },
   "file_extension": ".py",
   "mimetype": "text/x-python",
   "name": "python",
   "nbconvert_exporter": "python",
   "pygments_lexer": "ipython3",
   "version": "3.7.4"
  }
 },
 "nbformat": 4,
 "nbformat_minor": 2
}
