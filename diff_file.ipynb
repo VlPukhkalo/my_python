{
 "cells": [
  {
   "cell_type": "code",
   "execution_count": 14,
   "metadata": {},
   "outputs": [],
   "source": [
    "def normal(name):\n",
    "    with open(name,\"r\",encoding='utf-8') as file:\n",
    "        text = file.read()\n",
    "        trantab = str.maketrans(\"\",\"\", \",-.\\n:;?!\")\n",
    "        ns=text.translate(trantab)\n",
    "    return ns.lower()"
   ]
  },
  {
   "cell_type": "code",
   "execution_count": 39,
   "metadata": {},
   "outputs": [],
   "source": [
    "def sets(name1,name2):\n",
    "    f1=normal(name1).split(' ')\n",
    "    f2=normal(name2).split(' ')\n",
    "    unique=[]\n",
    "    for i in f1:\n",
    "        if f1.count(i)==1:\n",
    "            unique.append(i)\n",
    "    for i in f2:\n",
    "        if f2.count(i)==1:\n",
    "            unique.append(i)\n",
    "    s1=set(f1)\n",
    "    s2=set(f2)\n",
    "    print('список всех уникальных слов, содержащихся в обоих файлах: ',unique,'\\n','список слов, входящих в оба файла:',list(s1.intersection(s2)),'\\n','список слов из первого файла, не входящих во второй:',list(s1.difference(s2)),'\\n','список слов из второго файла, не входящих в первый:',list(s2.difference(s1)),'\\n','список слов, входящих либо в первый, либо во второй файл, но не входя­щих в оба файла одновременно:',list(s1.symmetric_difference(s2)))"
   ]
  }
 ],
 "metadata": {
  "kernelspec": {
   "display_name": "Python 3",
   "language": "python",
   "name": "python3"
  },
  "language_info": {
   "codemirror_mode": {
    "name": "ipython",
    "version": 3
   },
   "file_extension": ".py",
   "mimetype": "text/x-python",
   "name": "python",
   "nbconvert_exporter": "python",
   "pygments_lexer": "ipython3",
   "version": "3.7.4"
  }
 },
 "nbformat": 4,
 "nbformat_minor": 2
}
