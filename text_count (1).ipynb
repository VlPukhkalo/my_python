{
 "cells": [
  {
   "cell_type": "code",
   "execution_count": 33,
   "metadata": {},
   "outputs": [
    {
     "name": "stdout",
     "output_type": "stream",
     "text": [
      "среднее количество слов в расчете на предложение: 26.0 \n",
      " количество букв в файле в верхнем регистре: 29 \n",
      " количество букв в файле в нижнем регистре: 1228 \n",
      " количество цифр в файле: 30 \n",
      " количество пробельных символов в файле: 250\n"
     ]
    }
   ],
   "source": [
    "with open('1013.txt','r') as file:\n",
    "    data=file.readlines()\n",
    "data=list(map(lambda i:i[:-1],data))\n",
    "numOfWorlds=list(map(lambda i:len(i.split(' ')),data))\n",
    "char=list(map(list,data))\n",
    "cap=0\n",
    "low=0\n",
    "space=0\n",
    "num=0\n",
    "for i in char:\n",
    "    for s in i:\n",
    "        if s.isdigit():\n",
    "            num+=1\n",
    "        elif s.isalpha():\n",
    "            if s.islower():\n",
    "                low+=1\n",
    "            else:\n",
    "                cap+=1\n",
    "        elif s==' ':\n",
    "            space+=1\n",
    "print('среднее количество слов в расчете на предложение:',sum(numOfWorlds)/len(numOfWorlds),'\\n','количество букв в файле в верхнем регистре:',cap,'\\n','количество букв в файле в нижнем регистре:',low,'\\n','количество цифр в файле:',num,'\\n','количество пробельных символов в файле:',space)"
   ]
  }
 ],
 "metadata": {
  "kernelspec": {
   "display_name": "Python 3",
   "language": "python",
   "name": "python3"
  },
  "language_info": {
   "codemirror_mode": {
    "name": "ipython",
    "version": 3
   },
   "file_extension": ".py",
   "mimetype": "text/x-python",
   "name": "python",
   "nbconvert_exporter": "python",
   "pygments_lexer": "ipython3",
   "version": "3.7.4"
  }
 },
 "nbformat": 4,
 "nbformat_minor": 2
}
