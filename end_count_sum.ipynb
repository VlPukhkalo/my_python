{
 "cells": [
  {
   "cell_type": "code",
   "execution_count": 1,
   "metadata": {},
   "outputs": [
    {
     "name": "stdout",
     "output_type": "stream",
     "text": [
      "7\n",
      "стоп\n",
      "7\n"
     ]
    }
   ],
   "source": [
    "c=0\n",
    "while True:\n",
    "    n=input()\n",
    "    if n.isdigit():\n",
    "        c=c+int(n)\n",
    "    else:\n",
    "        if n.lower()=='стоп':\n",
    "            print(c)\n",
    "            break\n",
    "        else:\n",
    "            print('Ошибка ввода, повторите ввод:')"
   ]
  }
 ],
 "metadata": {
  "kernelspec": {
   "display_name": "Python 3",
   "language": "python",
   "name": "python3"
  },
  "language_info": {
   "codemirror_mode": {
    "name": "ipython",
    "version": 3
   },
   "file_extension": ".py",
   "mimetype": "text/x-python",
   "name": "python",
   "nbconvert_exporter": "python",
   "pygments_lexer": "ipython3",
   "version": "3.7.4"
  }
 },
 "nbformat": 4,
 "nbformat_minor": 2
}
