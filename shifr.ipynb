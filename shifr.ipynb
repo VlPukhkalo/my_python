{
 "cells": [
  {
   "cell_type": "code",
   "execution_count": 119,
   "metadata": {},
   "outputs": [],
   "source": [
    "a=list('абвгдеёжзийклмнопрстуфхцчшщъыьэюя')\n",
    "sym=list('%$#@☺^/<|_-+=*☹シツ1234567890ʕʘ‿ಠ~>')\n",
    "codes=dict(zip(a,sym))\n",
    "decodes=dict(zip(sym,a))"
   ]
  },
  {
   "cell_type": "code",
   "execution_count": 117,
   "metadata": {},
   "outputs": [],
   "source": [
    "def code(name1,name2):\n",
    "    with open(name1,'r',encoding='utf-8') as file1, open (name2,'w',encoding='utf-8') as file2:\n",
    "        st=file1.read()\n",
    "        for i in st:\n",
    "            st=st.replace(i,codes.get(i,i))\n",
    "        file2.write(st)"
   ]
  },
  {
   "cell_type": "code",
   "execution_count": 114,
   "metadata": {},
   "outputs": [],
   "source": [
    "def decode(name):\n",
    "    with open(name,'r',encoding='utf-8') as file:\n",
    "        st=file.read()\n",
    "        for i in st:\n",
    "            st=st.replace(i,decodes.get(i,i))\n",
    "    return st"
   ]
  }
 ],
 "metadata": {
  "kernelspec": {
   "display_name": "Python 3",
   "language": "python",
   "name": "python3"
  },
  "language_info": {
   "codemirror_mode": {
    "name": "ipython",
    "version": 3
   },
   "file_extension": ".py",
   "mimetype": "text/x-python",
   "name": "python",
   "nbconvert_exporter": "python",
   "pygments_lexer": "ipython3",
   "version": "3.7.4"
  }
 },
 "nbformat": 4,
 "nbformat_minor": 2
}
