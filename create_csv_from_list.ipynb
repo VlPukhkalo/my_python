{
 "cells": [
  {
   "cell_type": "code",
   "execution_count": 1,
   "metadata": {},
   "outputs": [],
   "source": [
    "def csv_function(name,listt):\n",
    "    try:\n",
    "        L=[i[0]+', '+i[1]+', '+i[2] for i in listt]\n",
    "        L.insert(0,'name, adress, age')\n",
    "        with open(name,'w',encoding='utf-8') as file:\n",
    "            for i in L:\n",
    "                file.write(i)\n",
    "                file.write('\\n')\n",
    "    except:\n",
    "        print('Ошибка')"
   ]
  }
 ],
 "metadata": {
  "kernelspec": {
   "display_name": "Python 3",
   "language": "python",
   "name": "python3"
  },
  "language_info": {
   "codemirror_mode": {
    "name": "ipython",
    "version": 3
   },
   "file_extension": ".py",
   "mimetype": "text/x-python",
   "name": "python",
   "nbconvert_exporter": "python",
   "pygments_lexer": "ipython3",
   "version": "3.7.4"
  }
 },
 "nbformat": 4,
 "nbformat_minor": 2
}
