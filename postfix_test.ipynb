{
 "cells": [
  {
   "cell_type": "code",
   "execution_count": 46,
   "metadata": {},
   "outputs": [],
   "source": [
    "def calc(expr):\n",
    "    '''\n",
    "    >>> calc(\"1 2 + 4 * 3 +\")\n",
    "    '15'\n",
    "    >>> calc(\"1 2 3 * + 2 -\")\n",
    "    '5'\n",
    "    '''\n",
    "\n",
    "    st=[]\n",
    "    e=expr.split()\n",
    "    for i in e:\n",
    "        if i.isdigit():\n",
    "            st.append(i)\n",
    "        else:\n",
    "            c=eval(st.pop(-2)+i+st.pop(-1))\n",
    "            st.append(str(c))    \n",
    "    return st[0]\n",
    "\n",
    "if __name__ == '__main__':\n",
    "    import doctest\n",
    "    doctest.testmod()"
   ]
  }
 ],
 "metadata": {
  "kernelspec": {
   "display_name": "Python 3",
   "language": "python",
   "name": "python3"
  },
  "language_info": {
   "codemirror_mode": {
    "name": "ipython",
    "version": 3
   },
   "file_extension": ".py",
   "mimetype": "text/x-python",
   "name": "python",
   "nbconvert_exporter": "python",
   "pygments_lexer": "ipython3",
   "version": "3.7.4"
  }
 },
 "nbformat": 4,
 "nbformat_minor": 2
}
