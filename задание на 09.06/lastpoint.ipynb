{
 "cells": [
  {
   "cell_type": "markdown",
   "metadata": {},
   "source": [
    "1 задание"
   ]
  },
  {
   "cell_type": "code",
   "execution_count": null,
   "metadata": {},
   "outputs": [],
   "source": [
    "with open(\"tinkoff_hh.json\", \"r\",encoding='utf-8') as read_file:\n",
    "    data = read_file.readlines()"
   ]
  },
  {
   "cell_type": "code",
   "execution_count": 4,
   "metadata": {},
   "outputs": [],
   "source": [
    "aa=[]\n",
    "for i in data[1::2]:\n",
    "    try:\n",
    "        aa.append(eval(i))\n",
    "    except:\n",
    "        pass"
   ]
  },
  {
   "cell_type": "code",
   "execution_count": 7,
   "metadata": {},
   "outputs": [],
   "source": [
    "import pandas as pd\n",
    "df=pd.DataFrame(aa)\n"
   ]
  },
  {
   "cell_type": "code",
   "execution_count": 8,
   "metadata": {},
   "outputs": [],
   "source": [
    "def f(st):\n",
    "    s=st.replace('\\xa0','')[2:9]\n",
    "    for c in list(s):\n",
    "        if c.isdigit():\n",
    "            pass\n",
    "        else:\n",
    "            s=s.replace(c,'')\n",
    "    return eval(s)"
   ]
  },
  {
   "cell_type": "code",
   "execution_count": 9,
   "metadata": {},
   "outputs": [],
   "source": [
    "df1=df[df['income']!='не указан']"
   ]
  },
  {
   "cell_type": "code",
   "execution_count": null,
   "metadata": {},
   "outputs": [],
   "source": [
    "df1['зп']=list(map(f,list(df1.income)))"
   ]
  },
  {
   "cell_type": "code",
   "execution_count": 11,
   "metadata": {},
   "outputs": [
    {
     "data": {
      "text/html": [
       "<div>\n",
       "<style scoped>\n",
       "    .dataframe tbody tr th:only-of-type {\n",
       "        vertical-align: middle;\n",
       "    }\n",
       "\n",
       "    .dataframe tbody tr th {\n",
       "        vertical-align: top;\n",
       "    }\n",
       "\n",
       "    .dataframe thead th {\n",
       "        text-align: right;\n",
       "    }\n",
       "</style>\n",
       "<table border=\"1\" class=\"dataframe\">\n",
       "  <thead>\n",
       "    <tr style=\"text-align: right;\">\n",
       "      <th></th>\n",
       "      <th>зп</th>\n",
       "    </tr>\n",
       "    <tr>\n",
       "      <th>vacancy</th>\n",
       "      <th></th>\n",
       "    </tr>\n",
       "  </thead>\n",
       "  <tbody>\n",
       "    <tr>\n",
       "      <td>Cпециалист проверки надёжности клиентов</td>\n",
       "      <td>50000.0</td>\n",
       "    </tr>\n",
       "    <tr>\n",
       "      <td>Агент по доставке карт</td>\n",
       "      <td>51933.0</td>\n",
       "    </tr>\n",
       "    <tr>\n",
       "      <td>Агент по доставке продуктов Тинькофф</td>\n",
       "      <td>33650.0</td>\n",
       "    </tr>\n",
       "    <tr>\n",
       "      <td>Агент по доставке продуктов банка</td>\n",
       "      <td>40000.0</td>\n",
       "    </tr>\n",
       "    <tr>\n",
       "      <td>Агент по работе с клиентами</td>\n",
       "      <td>50000.0</td>\n",
       "    </tr>\n",
       "    <tr>\n",
       "      <td>...</td>\n",
       "      <td>...</td>\n",
       "    </tr>\n",
       "    <tr>\n",
       "      <td>Территориальный руководитель по привлечению юридических лиц</td>\n",
       "      <td>80000.0</td>\n",
       "    </tr>\n",
       "    <tr>\n",
       "      <td>Торговый представитель в Банк</td>\n",
       "      <td>51538.0</td>\n",
       "    </tr>\n",
       "    <tr>\n",
       "      <td>Торговый представитель в банк</td>\n",
       "      <td>55000.0</td>\n",
       "    </tr>\n",
       "    <tr>\n",
       "      <td>Тренер группы обучения</td>\n",
       "      <td>55000.0</td>\n",
       "    </tr>\n",
       "    <tr>\n",
       "      <td>Тренинг-менеджер</td>\n",
       "      <td>100000.0</td>\n",
       "    </tr>\n",
       "  </tbody>\n",
       "</table>\n",
       "<p>161 rows × 1 columns</p>\n",
       "</div>"
      ],
      "text/plain": [
       "                                                          зп\n",
       "vacancy                                                     \n",
       "Cпециалист проверки надёжности клиентов              50000.0\n",
       "Агент по доставке карт                               51933.0\n",
       "Агент по доставке продуктов Тинькофф                 33650.0\n",
       "Агент по доставке продуктов банка                    40000.0\n",
       "Агент по работе с клиентами                          50000.0\n",
       "...                                                      ...\n",
       "Территориальный руководитель по привлечению юри...   80000.0\n",
       "Торговый представитель в Банк                        51538.0\n",
       "Торговый представитель в банк                        55000.0\n",
       "Тренер группы обучения                               55000.0\n",
       "Тренинг-менеджер                                    100000.0\n",
       "\n",
       "[161 rows x 1 columns]"
      ]
     },
     "execution_count": 11,
     "metadata": {},
     "output_type": "execute_result"
    }
   ],
   "source": [
    "df1.groupby('vacancy').mean().apply(round) #среднее по каждой вакансии"
   ]
  },
  {
   "cell_type": "code",
   "execution_count": 19,
   "metadata": {},
   "outputs": [
    {
     "name": "stdout",
     "output_type": "stream",
     "text": [
      "Введите вакансию: Менеджер по привлечению юридических лиц\n"
     ]
    },
    {
     "data": {
      "text/html": [
       "<div>\n",
       "<style scoped>\n",
       "    .dataframe tbody tr th:only-of-type {\n",
       "        vertical-align: middle;\n",
       "    }\n",
       "\n",
       "    .dataframe tbody tr th {\n",
       "        vertical-align: top;\n",
       "    }\n",
       "\n",
       "    .dataframe thead th {\n",
       "        text-align: right;\n",
       "    }\n",
       "</style>\n",
       "<table border=\"1\" class=\"dataframe\">\n",
       "  <thead>\n",
       "    <tr style=\"text-align: right;\">\n",
       "      <th></th>\n",
       "      <th>vacancy</th>\n",
       "      <th>income</th>\n",
       "    </tr>\n",
       "  </thead>\n",
       "  <tbody>\n",
       "    <tr>\n",
       "      <td>3</td>\n",
       "      <td>Менеджер по привлечению юридических лиц</td>\n",
       "      <td>от 80 000 руб.</td>\n",
       "    </tr>\n",
       "    <tr>\n",
       "      <td>4</td>\n",
       "      <td>Менеджер по привлечению юридических лиц</td>\n",
       "      <td>от 80 000 руб.</td>\n",
       "    </tr>\n",
       "    <tr>\n",
       "      <td>5</td>\n",
       "      <td>Менеджер по привлечению юридических лиц</td>\n",
       "      <td>от 80 000 руб.</td>\n",
       "    </tr>\n",
       "    <tr>\n",
       "      <td>6</td>\n",
       "      <td>Менеджер по привлечению юридических лиц</td>\n",
       "      <td>от 80 000 руб.</td>\n",
       "    </tr>\n",
       "    <tr>\n",
       "      <td>7</td>\n",
       "      <td>Менеджер по привлечению юридических лиц</td>\n",
       "      <td>от 80 000 руб.</td>\n",
       "    </tr>\n",
       "    <tr>\n",
       "      <td>...</td>\n",
       "      <td>...</td>\n",
       "      <td>...</td>\n",
       "    </tr>\n",
       "    <tr>\n",
       "      <td>1184</td>\n",
       "      <td>Менеджер по привлечению юридических лиц</td>\n",
       "      <td>от 80 000 руб.</td>\n",
       "    </tr>\n",
       "    <tr>\n",
       "      <td>1185</td>\n",
       "      <td>Менеджер по привлечению юридических лиц</td>\n",
       "      <td>от 80 000 руб.</td>\n",
       "    </tr>\n",
       "    <tr>\n",
       "      <td>1186</td>\n",
       "      <td>Менеджер по привлечению юридических лиц</td>\n",
       "      <td>от 80 000 руб.</td>\n",
       "    </tr>\n",
       "    <tr>\n",
       "      <td>1187</td>\n",
       "      <td>Менеджер по привлечению юридических лиц</td>\n",
       "      <td>от 80 000 руб.</td>\n",
       "    </tr>\n",
       "    <tr>\n",
       "      <td>1188</td>\n",
       "      <td>Менеджер по привлечению юридических лиц</td>\n",
       "      <td>от 80 000 руб.</td>\n",
       "    </tr>\n",
       "  </tbody>\n",
       "</table>\n",
       "<p>90 rows × 2 columns</p>\n",
       "</div>"
      ],
      "text/plain": [
       "                                      vacancy          income\n",
       "3     Менеджер по привлечению юридических лиц  от 80 000 руб.\n",
       "4     Менеджер по привлечению юридических лиц  от 80 000 руб.\n",
       "5     Менеджер по привлечению юридических лиц  от 80 000 руб.\n",
       "6     Менеджер по привлечению юридических лиц  от 80 000 руб.\n",
       "7     Менеджер по привлечению юридических лиц  от 80 000 руб.\n",
       "...                                       ...             ...\n",
       "1184  Менеджер по привлечению юридических лиц  от 80 000 руб.\n",
       "1185  Менеджер по привлечению юридических лиц  от 80 000 руб.\n",
       "1186  Менеджер по привлечению юридических лиц  от 80 000 руб.\n",
       "1187  Менеджер по привлечению юридических лиц  от 80 000 руб.\n",
       "1188  Менеджер по привлечению юридических лиц  от 80 000 руб.\n",
       "\n",
       "[90 rows x 2 columns]"
      ]
     },
     "execution_count": 19,
     "metadata": {},
     "output_type": "execute_result"
    }
   ],
   "source": [
    "prof=input('Введите вакансию: ')\n",
    "df[df['vacancy']==prof][['vacancy','income']] #все по ввденной вакансии"
   ]
  },
  {
   "cell_type": "markdown",
   "metadata": {},
   "source": [
    "Задание 2"
   ]
  },
  {
   "cell_type": "code",
   "execution_count": 34,
   "metadata": {},
   "outputs": [
    {
     "data": {
      "text/html": [
       "<div>\n",
       "<style scoped>\n",
       "    .dataframe tbody tr th:only-of-type {\n",
       "        vertical-align: middle;\n",
       "    }\n",
       "\n",
       "    .dataframe tbody tr th {\n",
       "        vertical-align: top;\n",
       "    }\n",
       "\n",
       "    .dataframe thead th {\n",
       "        text-align: right;\n",
       "    }\n",
       "</style>\n",
       "<table border=\"1\" class=\"dataframe\">\n",
       "  <thead>\n",
       "    <tr style=\"text-align: right;\">\n",
       "      <th></th>\n",
       "      <th>Поисковая фраза</th>\n",
       "      <th>Поисковая система</th>\n",
       "      <th>Визиты</th>\n",
       "      <th>Посетители</th>\n",
       "      <th>Отказы</th>\n",
       "      <th>Глубина просмотра</th>\n",
       "      <th>Время на сайте</th>\n",
       "    </tr>\n",
       "  </thead>\n",
       "  <tbody>\n",
       "    <tr>\n",
       "      <td>0</td>\n",
       "      <td>Итого и средние</td>\n",
       "      <td>NaN</td>\n",
       "      <td>72394</td>\n",
       "      <td>57803</td>\n",
       "      <td>0.120328</td>\n",
       "      <td>1.298934</td>\n",
       "      <td>00:01:18</td>\n",
       "    </tr>\n",
       "    <tr>\n",
       "      <td>1</td>\n",
       "      <td>pycode.ru</td>\n",
       "      <td>Яндекс</td>\n",
       "      <td>2068</td>\n",
       "      <td>1225</td>\n",
       "      <td>0.093810</td>\n",
       "      <td>1.674565</td>\n",
       "      <td>00:01:38</td>\n",
       "    </tr>\n",
       "    <tr>\n",
       "      <td>2</td>\n",
       "      <td>холопов алексей васильевич</td>\n",
       "      <td>Яндекс</td>\n",
       "      <td>1240</td>\n",
       "      <td>467</td>\n",
       "      <td>0.082258</td>\n",
       "      <td>1.941129</td>\n",
       "      <td>00:03:53</td>\n",
       "    </tr>\n",
       "    <tr>\n",
       "      <td>3</td>\n",
       "      <td>золотое правило дидактики</td>\n",
       "      <td>Яндекс</td>\n",
       "      <td>778</td>\n",
       "      <td>751</td>\n",
       "      <td>0.082262</td>\n",
       "      <td>1.087404</td>\n",
       "      <td>00:00:41</td>\n",
       "    </tr>\n",
       "    <tr>\n",
       "      <td>4</td>\n",
       "      <td>золотое правило дидактики я.а коменского</td>\n",
       "      <td>Яндекс</td>\n",
       "      <td>743</td>\n",
       "      <td>724</td>\n",
       "      <td>0.068641</td>\n",
       "      <td>1.044415</td>\n",
       "      <td>00:00:31</td>\n",
       "    </tr>\n",
       "  </tbody>\n",
       "</table>\n",
       "</div>"
      ],
      "text/plain": [
       "                            Поисковая фраза Поисковая система  Визиты  \\\n",
       "0                           Итого и средние               NaN   72394   \n",
       "1                                 pycode.ru            Яндекс    2068   \n",
       "2                холопов алексей васильевич            Яндекс    1240   \n",
       "3                 золотое правило дидактики            Яндекс     778   \n",
       "4  золотое правило дидактики я.а коменского            Яндекс     743   \n",
       "\n",
       "   Посетители    Отказы  Глубина просмотра Время на сайте  \n",
       "0       57803  0.120328           1.298934       00:01:18  \n",
       "1        1225  0.093810           1.674565       00:01:38  \n",
       "2         467  0.082258           1.941129       00:03:53  \n",
       "3         751  0.082262           1.087404       00:00:41  \n",
       "4         724  0.068641           1.044415       00:00:31  "
      ]
     },
     "execution_count": 34,
     "metadata": {},
     "output_type": "execute_result"
    }
   ],
   "source": [
    "import pandas as pd\n",
    "\n",
    "url = \"https://raw.githubusercontent.com/dm-fedorov/pandas_basic/master/data/data_stat/yandex-stat-q.csv\"\n",
    "\n",
    "df = pd.read_csv(url)\n",
    "df.head()"
   ]
  },
  {
   "cell_type": "code",
   "execution_count": 39,
   "metadata": {},
   "outputs": [],
   "source": [
    "l=list(df['Поисковая фраза'])"
   ]
  },
  {
   "cell_type": "code",
   "execution_count": 57,
   "metadata": {},
   "outputs": [],
   "source": [
    "st=''\n",
    "for c in l:\n",
    "    st=st+' '+c"
   ]
  },
  {
   "cell_type": "code",
   "execution_count": 58,
   "metadata": {},
   "outputs": [],
   "source": [
    "def remove(value, deletechars):\n",
    "    for c in deletechars:\n",
    "        value = value.replace(c,'')\n",
    "    return value"
   ]
  },
  {
   "cell_type": "code",
   "execution_count": 59,
   "metadata": {},
   "outputs": [],
   "source": [
    "st=remove(st, \"[.]{}*:;-!/\\“”«»,?\")"
   ]
  },
  {
   "cell_type": "code",
   "execution_count": 60,
   "metadata": {},
   "outputs": [],
   "source": [
    "words=st.lower().split()"
   ]
  },
  {
   "cell_type": "code",
   "execution_count": 87,
   "metadata": {},
   "outputs": [],
   "source": [
    "with open('wjrds.txt','w',encoding='utf-8') as f:\n",
    "    f.write(st.lower())"
   ]
  },
  {
   "cell_type": "code",
   "execution_count": null,
   "metadata": {},
   "outputs": [],
   "source": [
    "#здесь см.файл processing.py, тк в jupyter это не работало"
   ]
  },
  {
   "cell_type": "code",
   "execution_count": 90,
   "metadata": {},
   "outputs": [],
   "source": [
    "with open('norm.txt','r',encoding='utf-8') as file:\n",
    "    wordsn=file.read()"
   ]
  },
  {
   "cell_type": "code",
   "execution_count": 93,
   "metadata": {},
   "outputs": [],
   "source": [
    "wordsn=wordsn.split()"
   ]
  },
  {
   "cell_type": "code",
   "execution_count": 94,
   "metadata": {},
   "outputs": [],
   "source": [
    "from collections import Counter"
   ]
  },
  {
   "cell_type": "code",
   "execution_count": 98,
   "metadata": {},
   "outputs": [],
   "source": [
    "d=dict(Counter(wordsn))"
   ]
  },
  {
   "cell_type": "code",
   "execution_count": 103,
   "metadata": {},
   "outputs": [],
   "source": [
    "from collections import OrderedDict\n",
    "d_sorted_by_value = OrderedDict(sorted(d.items(), key=lambda x: x[1],reverse=True))"
   ]
  },
  {
   "cell_type": "code",
   "execution_count": 108,
   "metadata": {},
   "outputs": [],
   "source": [
    "ds=dict(d_sorted_by_value) # отсортированный словарь встречаемости "
   ]
  },
  {
   "cell_type": "code",
   "execution_count": 113,
   "metadata": {},
   "outputs": [
    {
     "data": {
      "text/plain": [
       "['тезис',\n",
       " 'в',\n",
       " 'на',\n",
       " 'конференция',\n",
       " 'по',\n",
       " 'научный',\n",
       " 'как',\n",
       " 'работа',\n",
       " 'и',\n",
       " 'для',\n",
       " 'информационный',\n",
       " 'пример',\n",
       " 'безопасность',\n",
       " 'к',\n",
       " 'правило',\n",
       " 'практика',\n",
       " 'золотой',\n",
       " 'что',\n",
       " 'доклад',\n",
       " 'статья']"
      ]
     },
     "execution_count": 113,
     "metadata": {},
     "output_type": "execute_result"
    }
   ],
   "source": [
    "list(ds.keys())[:20] # самые часто встречаемые слова"
   ]
  },
  {
   "cell_type": "code",
   "execution_count": null,
   "metadata": {},
   "outputs": [],
   "source": []
  }
 ],
 "metadata": {
  "kernelspec": {
   "display_name": "Python 3",
   "language": "python",
   "name": "python3"
  },
  "language_info": {
   "codemirror_mode": {
    "name": "ipython",
    "version": 3
   },
   "file_extension": ".py",
   "mimetype": "text/x-python",
   "name": "python",
   "nbconvert_exporter": "python",
   "pygments_lexer": "ipython3",
   "version": "3.7.4"
  }
 },
 "nbformat": 4,
 "nbformat_minor": 2
}
