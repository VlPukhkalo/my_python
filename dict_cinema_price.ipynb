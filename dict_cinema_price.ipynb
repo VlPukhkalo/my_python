{
 "cells": [
  {
   "cell_type": "code",
   "execution_count": 2,
   "metadata": {},
   "outputs": [],
   "source": [
    "films={'Паразиты':\n",
    "       {'12':250,'16':350,'20':450},\n",
    "       '1917':\n",
    "       {'10':250 , '13':350,'16':350},\n",
    "       'Соник в кино':\n",
    "       {'10':350, '14': 450, '18':450}}"
   ]
  },
  {
   "cell_type": "code",
   "execution_count": 10,
   "metadata": {},
   "outputs": [
    {
     "name": "stdout",
     "output_type": "stream",
     "text": [
      "Выберите фильм: 1917\n",
      "Выберите дату: сегодня\n",
      "Выберите время: 16\n",
      "Укажите количество билетов: 20\n",
      "280.0 p.\n"
     ]
    }
   ],
   "source": [
    "film=input(\"Выберите фильм: \")\n",
    "date=input(\"Выберите дату: \")\n",
    "time=input(\"Выберите время: \")\n",
    "num=int(input(\"Укажите количество билетов: \"))\n",
    "price=films[film][time]\n",
    "if date=='завтра':\n",
    "    price=price*0.95\n",
    "if num>=20:\n",
    "    price=price*0.8\n",
    "print(price,'p.')"
   ]
  }
 ],
 "metadata": {
  "kernelspec": {
   "display_name": "Python 3",
   "language": "python",
   "name": "python3"
  },
  "language_info": {
   "codemirror_mode": {
    "name": "ipython",
    "version": 3
   },
   "file_extension": ".py",
   "mimetype": "text/x-python",
   "name": "python",
   "nbconvert_exporter": "python",
   "pygments_lexer": "ipython3",
   "version": "3.7.4"
  }
 },
 "nbformat": 4,
 "nbformat_minor": 2
}
