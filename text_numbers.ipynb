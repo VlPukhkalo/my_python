{
 "cells": [
  {
   "cell_type": "code",
   "execution_count": 19,
   "metadata": {},
   "outputs": [],
   "source": [
    "def f(str):\n",
    "    return(str[:-1])\n",
    "try:\n",
    "    with open(\"text.txt\",'r') as file, open(\"update_text.txt\",'w') as new:\n",
    "        p=file.readlines()\n",
    "        p=list(map(f,p))\n",
    "        c=1\n",
    "        n=[]\n",
    "        for i in p:\n",
    "            n.append(f'{c}'+' '+i)\n",
    "            c+=1\n",
    "        for i in n:\n",
    "            new.write(i)\n",
    "            new.write('\\n')\n",
    "except:\n",
    "    print('вы передали несуществующий файл')"
   ]
  }
 ],
 "metadata": {
  "kernelspec": {
   "display_name": "Python 3",
   "language": "python",
   "name": "python3"
  },
  "language_info": {
   "codemirror_mode": {
    "name": "ipython",
    "version": 3
   },
   "file_extension": ".py",
   "mimetype": "text/x-python",
   "name": "python",
   "nbconvert_exporter": "python",
   "pygments_lexer": "ipython3",
   "version": "3.7.4"
  }
 },
 "nbformat": 4,
 "nbformat_minor": 2
}
