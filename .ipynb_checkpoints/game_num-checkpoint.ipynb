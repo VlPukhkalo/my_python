{
 "cells": [
  {
   "cell_type": "code",
   "execution_count": 1,
   "metadata": {},
   "outputs": [],
   "source": [
    "import random"
   ]
  },
  {
   "cell_type": "code",
   "execution_count": 3,
   "metadata": {},
   "outputs": [
    {
     "name": "stdout",
     "output_type": "stream",
     "text": [
      "Угадай число:1\n",
      "Введи число побольше\n",
      "Угадай число:Выход\n"
     ]
    }
   ],
   "source": [
    "x=random.randint(1,5)\n",
    "i=0\n",
    "while True:\n",
    "    n=input(\"Угадай число:\")\n",
    "    if n=='Выход':\n",
    "        break\n",
    "    elif int(n)==x:\n",
    "        print(\"Победа!\")\n",
    "        break\n",
    "    elif int(n)>x:\n",
    "        if i>3:\n",
    "            print(\"Проигрыш\")\n",
    "        else:\n",
    "            i=i+1\n",
    "            print(\"Введи число поменьше\")\n",
    "    else:\n",
    "        if i>3:\n",
    "            print(\"Проигрыш\")\n",
    "            break\n",
    "        else:\n",
    "            i=i+1\n",
    "            print(\"Введи число побольше\")"
   ]
  },
  {
   "cell_type": "code",
   "execution_count": null,
   "metadata": {},
   "outputs": [],
   "source": [
    "#https://drakonhub.com/ide/doc/if_random_game/3"
   ]
  }
 ],
 "metadata": {
  "kernelspec": {
   "display_name": "Python 3",
   "language": "python",
   "name": "python3"
  },
  "language_info": {
   "codemirror_mode": {
    "name": "ipython",
    "version": 3
   },
   "file_extension": ".py",
   "mimetype": "text/x-python",
   "name": "python",
   "nbconvert_exporter": "python",
   "pygments_lexer": "ipython3",
   "version": "3.7.4"
  }
 },
 "nbformat": 4,
 "nbformat_minor": 2
}
