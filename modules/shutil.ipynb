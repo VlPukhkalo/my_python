{
 "cells": [
  {
   "cell_type": "code",
   "execution_count": null,
   "metadata": {},
   "outputs": [],
   "source": [
    "from pathlib import Path\n",
    "import os\n",
    "\n",
    "#создаем файл\n",
    "path = Path.cwd() / 'Path.example'\n",
    "path.mkdir()\n",
    "directory_folder = path / 'ExampleTextFile11.txt'\n",
    "\n",
    "folder_path = os.path.dirname(directory_folder)\n",
    "with open(directory_folder, 'w') as file: \n",
    "    file.write(\"Образец данных для записи в файл.\")"
   ]
  },
  {
   "cell_type": "code",
   "execution_count": null,
   "metadata": {},
   "outputs": [],
   "source": [
    "import shutil as sh #копируем файл\n",
    "sh.copy(str(path) + \"\\\\ExampleTextFile11.txt\", str(path) + \"\\\\ExampleTextFile11_1.txt\")"
   ]
  },
  {
   "cell_type": "code",
   "execution_count": null,
   "metadata": {},
   "outputs": [],
   "source": [
    "import filecmp as fl #проверяем совпадение\n",
    "filecmp.cmp(str(path) + \"\\\\ExampleTextFile11.txt\", str(path) + \"\\\\ExampleTextFile11_1.txt\", shallow = True)"
   ]
  },
  {
   "cell_type": "code",
   "execution_count": null,
   "metadata": {},
   "outputs": [],
   "source": [
    "sh.make_archive(\"ExampleTextFile11\", \"zip\", str(path)) #создаем архив"
   ]
  },
  {
   "cell_type": "code",
   "execution_count": null,
   "metadata": {},
   "outputs": [],
   "source": [
    "import mmap #читаем файл\n",
    "with open(str(path) + \"\\\\ExampleTextFile11.txt\", \"r\", encoding = \"utf-8\") as file:\n",
    "    with mmap.mmap(file.fileno(), length=0, access=mmap.ACCESS_READ) as mmap_obj:\n",
    "        text_mmap = mmap_obj.read()"
   ]
  },
  {
   "cell_type": "code",
   "execution_count": null,
   "metadata": {},
   "outputs": [],
   "source": [
    "import codecs as cd \n",
    "cd.decode(text_mmap,encoding = \"utf-8\", errors = \"ignore\")"
   ]
  }
 ],
 "metadata": {
  "kernelspec": {
   "display_name": "Python 3",
   "language": "python",
   "name": "python3"
  },
  "language_info": {
   "codemirror_mode": {
    "name": "ipython",
    "version": 3
   },
   "file_extension": ".py",
   "mimetype": "text/x-python",
   "name": "python",
   "nbconvert_exporter": "python",
   "pygments_lexer": "ipython3",
   "version": "3.7.4"
  }
 },
 "nbformat": 4,
 "nbformat_minor": 2
}
