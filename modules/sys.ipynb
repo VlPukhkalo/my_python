{
 "cells": [
  {
   "cell_type": "markdown",
   "metadata": {},
   "source": [
    "1. Подключить сборщик автоматический сборщик мусора с пороговым значением, равным 6 для первого поколения (для второго и третьего оставить по умолчанию)"
   ]
  },
  {
   "cell_type": "code",
   "execution_count": 12,
   "metadata": {},
   "outputs": [],
   "source": [
    "import gc\n",
    "gc.enable()\n",
    "gc.set_threshold(6,gc.get_threshold()[1] , gc.get_threshold()[2])"
   ]
  },
  {
   "cell_type": "markdown",
   "metadata": {},
   "source": [
    "2. Напишите рекурсивную функцию fib, вычисляющую n-ое число Фибоначчи (так, чтобы внутри был всего один рекурсивный вызов fib). fib внутри себя устанавливает случайный предел рекурсии (от 64 до 1000). Если вычисления не происходят из-за нарушения предела рекурсии, fib возвращает \"не повезло\"."
   ]
  },
  {
   "cell_type": "code",
   "execution_count": 53,
   "metadata": {},
   "outputs": [],
   "source": [
    "import sys\n",
    "import random\n",
    "def fib(n):\n",
    "    sys.setrecursionlimit(random.randint(64,1000))\n",
    "    try:\n",
    "        if n <= 1:\n",
    "            return (n,0)\n",
    "        else:\n",
    "            (a, b) = fib(n - 1)\n",
    "            return (a + b, a)\n",
    "    except:\n",
    "        return \"не повезло\""
   ]
  },
  {
   "cell_type": "code",
   "execution_count": 60,
   "metadata": {},
   "outputs": [
    {
     "name": "stdout",
     "output_type": "stream",
     "text": [
      "(102334155, 63245986)\n",
      "не повезло\n"
     ]
    },
    {
     "data": {
      "text/plain": [
       "255"
      ]
     },
     "execution_count": 60,
     "metadata": {},
     "output_type": "execute_result"
    }
   ],
   "source": [
    "print(fib(40))\n",
    "print(fib(4000))\n",
    "sys.getrecursionlimit()"
   ]
  },
  {
   "cell_type": "markdown",
   "metadata": {},
   "source": [
    "3. Получить имя папки в текущей директории, в которой меньше всего файлов (не вложенных папок!)"
   ]
  },
  {
   "cell_type": "code",
   "execution_count": 64,
   "metadata": {},
   "outputs": [],
   "source": [
    "import os\n",
    "alldir=list(os.walk(os.getcwd()))[1:]"
   ]
  },
  {
   "cell_type": "code",
   "execution_count": 67,
   "metadata": {},
   "outputs": [
    {
     "data": {
      "text/plain": [
       "'C:\\\\Users\\\\Влада\\\\.anaconda'"
      ]
     },
     "execution_count": 67,
     "metadata": {},
     "output_type": "execute_result"
    }
   ],
   "source": [
    "min(alldir,key=lambda i: len(i[2]))[0]"
   ]
  },
  {
   "cell_type": "markdown",
   "metadata": {},
   "source": [
    "4. Определите, сколько лет назад был собран Ваш интерпретатор. Выведите \"пора обновиться\", если интерпретатору не 0 лет."
   ]
  },
  {
   "cell_type": "code",
   "execution_count": 85,
   "metadata": {},
   "outputs": [
    {
     "name": "stdout",
     "output_type": "stream",
     "text": [
      "пора обновиться\n"
     ]
    }
   ],
   "source": [
    "import platform\n",
    "a=2020-int(platform.python_build()[1][7:11])\n",
    "if a>0:\n",
    "    print(\"пора обновиться\")"
   ]
  },
  {
   "cell_type": "code",
   "execution_count": null,
   "metadata": {},
   "outputs": [],
   "source": []
  }
 ],
 "metadata": {
  "kernelspec": {
   "display_name": "Python 3",
   "language": "python",
   "name": "python3"
  },
  "language_info": {
   "codemirror_mode": {
    "name": "ipython",
    "version": 3
   },
   "file_extension": ".py",
   "mimetype": "text/x-python",
   "name": "python",
   "nbconvert_exporter": "python",
   "pygments_lexer": "ipython3",
   "version": "3.7.4"
  }
 },
 "nbformat": 4,
 "nbformat_minor": 2
}
