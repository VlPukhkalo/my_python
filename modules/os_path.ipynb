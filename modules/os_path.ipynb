{
 "cells": [
  {
   "cell_type": "code",
   "execution_count": 6,
   "metadata": {},
   "outputs": [],
   "source": [
    "from pathlib import Path\n",
    "import os\n",
    "\n",
    "path = Path.cwd() / 'Path.example'\n",
    "path.mkdir()\n",
    "directory_folder = path / 'ExampleTextFile.txt'\n",
    "\n",
    "folder_path = os.path.dirname(directory_folder)\n",
    "with open(directory_folder, 'w') as file: \n",
    "    file.write(\"Образец данных для записи в файл.\")"
   ]
  }
 ],
 "metadata": {
  "kernelspec": {
   "display_name": "Python 3",
   "language": "python",
   "name": "python3"
  },
  "language_info": {
   "codemirror_mode": {
    "name": "ipython",
    "version": 3
   },
   "file_extension": ".py",
   "mimetype": "text/x-python",
   "name": "python",
   "nbconvert_exporter": "python",
   "pygments_lexer": "ipython3",
   "version": "3.7.4"
  }
 },
 "nbformat": 4,
 "nbformat_minor": 2
}
