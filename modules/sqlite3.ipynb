{
 "cells": [
  {
   "cell_type": "markdown",
   "metadata": {},
   "source": [
    "### 1 задание"
   ]
  },
  {
   "cell_type": "code",
   "execution_count": 1,
   "metadata": {},
   "outputs": [],
   "source": [
    "import pickle"
   ]
  },
  {
   "cell_type": "code",
   "execution_count": 9,
   "metadata": {},
   "outputs": [],
   "source": [
    "class Vehicle(object):\n",
    " \n",
    "    def __init__(self, color, doors, tires):\n",
    "        self.color = color\n",
    "        self.doors = doors\n",
    "        self.tires = tires\n",
    "    \n",
    "    def brake(self):\n",
    "        return \"Braking\"\n",
    "    \n",
    "    def drive(self):\n",
    "        return \"I'm driving!\""
   ]
  },
  {
   "cell_type": "code",
   "execution_count": 11,
   "metadata": {},
   "outputs": [],
   "source": [
    "car=Vehicle(\"red\",3,2)\n",
    "with open('MyClassInFile.pickle', 'wb') as f:\n",
    "    pickle.dump(car, f)"
   ]
  },
  {
   "cell_type": "markdown",
   "metadata": {},
   "source": [
    "### 2 задание"
   ]
  },
  {
   "cell_type": "code",
   "execution_count": 12,
   "metadata": {},
   "outputs": [],
   "source": [
    "import shelve\n",
    " \n",
    "with shelve.open(\"MyFavoriteMovies\") as states:\n",
    "    states[\"David Yets\"] = \"Harry Potter\"\n",
    "    states[\"Quentin Tarantino\"] = \"Pulp Fiction\"\n",
    "    states[\"Damien Chazelle\"] = \"Whiplash\""
   ]
  },
  {
   "cell_type": "markdown",
   "metadata": {},
   "source": [
    "### 3 задание"
   ]
  },
  {
   "cell_type": "code",
   "execution_count": 36,
   "metadata": {},
   "outputs": [],
   "source": [
    "sql=\"\"\"DROP TABLE employees\"\"\"\n",
    "cursor.execute(sql)\n",
    "conn.commit()"
   ]
  },
  {
   "cell_type": "code",
   "execution_count": 37,
   "metadata": {},
   "outputs": [
    {
     "data": {
      "text/plain": [
       "<sqlite3.Cursor at 0x25eced1e3b0>"
      ]
     },
     "execution_count": 37,
     "metadata": {},
     "output_type": "execute_result"
    }
   ],
   "source": [
    "import sqlite3\n",
    "conn = sqlite3.connect(\"mydatabase.db\")\n",
    "cursor = conn.cursor()\n",
    "cursor.execute(\"CREATE TABLE employees (name, salary$, age)\")"
   ]
  },
  {
   "cell_type": "code",
   "execution_count": 38,
   "metadata": {},
   "outputs": [],
   "source": [
    "albums = [('John Doe', 5000, 35),\n",
    "          ('Marie Paige', 6000, 25),\n",
    "          ('Megan Flores', 3000, 29),\n",
    "          ('Harmony Simmons', 4000, 42)]\n",
    "\n",
    "cursor.executemany(\"INSERT INTO employees VALUES (?,?,?)\", albums)\n",
    "conn.commit()"
   ]
  },
  {
   "cell_type": "code",
   "execution_count": 39,
   "metadata": {},
   "outputs": [
    {
     "name": "stdout",
     "output_type": "stream",
     "text": [
      "(4, 'Harmony Simmons', 4000, 42)\n",
      "(1, 'John Doe', 5000, 35)\n",
      "(2, 'Marie Paige', 6000, 25)\n",
      "(3, 'Megan Flores', 3000, 29)\n"
     ]
    }
   ],
   "source": [
    "for row in cursor.execute(\"SELECT rowid, * FROM employees ORDER BY name\"):\n",
    "    print(row)"
   ]
  },
  {
   "cell_type": "code",
   "execution_count": 40,
   "metadata": {},
   "outputs": [],
   "source": [
    "result = cursor.execute('''SELECT name FROM employees WHERE age < 30''').fetchall()\n",
    "result2=[elem[0] for elem in result]\n",
    "result3 = cursor.execute('''SELECT salary$ FROM employees WHERE age < 30''').fetchall()\n",
    "result4=[elem[0]+1000 for elem in result3]"
   ]
  },
  {
   "cell_type": "code",
   "execution_count": 43,
   "metadata": {},
   "outputs": [],
   "source": [
    "for i in range(len(result2)):\n",
    "    sql = f\"\"\"UPDATE employees SET salary$ = {result4[i]} WHERE name = '{result2[i]}'\"\"\"\n",
    "    cursor.execute(sql)\n",
    "    conn.commit()"
   ]
  },
  {
   "cell_type": "code",
   "execution_count": 44,
   "metadata": {},
   "outputs": [
    {
     "name": "stdout",
     "output_type": "stream",
     "text": [
      "(4, 'Harmony Simmons', 4000, 42)\n",
      "(1, 'John Doe', 5000, 35)\n",
      "(2, 'Marie Paige', 7000, 25)\n",
      "(3, 'Megan Flores', 4000, 29)\n"
     ]
    }
   ],
   "source": [
    "for row in cursor.execute(\"SELECT rowid, * FROM employees ORDER BY name\"):\n",
    "    print(row)"
   ]
  },
  {
   "cell_type": "code",
   "execution_count": 46,
   "metadata": {},
   "outputs": [],
   "source": [
    "result5 = cursor.execute('''SELECT name FROM employees WHERE age > 40''').fetchall()\n",
    "result6=[elem[0] for elem in result5]"
   ]
  },
  {
   "cell_type": "code",
   "execution_count": 47,
   "metadata": {},
   "outputs": [],
   "source": [
    "for i in result6:\n",
    "    sql = f\"DELETE FROM employees WHERE name = '{i}'\"\n",
    "    cursor.execute(sql)\n",
    "    conn.commit()"
   ]
  },
  {
   "cell_type": "code",
   "execution_count": 48,
   "metadata": {},
   "outputs": [
    {
     "name": "stdout",
     "output_type": "stream",
     "text": [
      "(1, 'John Doe', 5000, 35)\n",
      "(2, 'Marie Paige', 7000, 25)\n",
      "(3, 'Megan Flores', 4000, 29)\n"
     ]
    }
   ],
   "source": [
    "for row in cursor.execute(\"SELECT rowid, * FROM employees ORDER BY name\"):\n",
    "    print(row)"
   ]
  }
 ],
 "metadata": {
  "kernelspec": {
   "display_name": "Python 3",
   "language": "python",
   "name": "python3"
  },
  "language_info": {
   "codemirror_mode": {
    "name": "ipython",
    "version": 3
   },
   "file_extension": ".py",
   "mimetype": "text/x-python",
   "name": "python",
   "nbconvert_exporter": "python",
   "pygments_lexer": "ipython3",
   "version": "3.7.4"
  }
 },
 "nbformat": 4,
 "nbformat_minor": 2
}
