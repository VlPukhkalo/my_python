{
 "cells": [
  {
   "cell_type": "markdown",
   "metadata": {},
   "source": [
    "Задание: создать кучу из 10 случайных чисел и вывести наименьшие числа с 4 по 6 (порядковые номера изначальной кучу)"
   ]
  },
  {
   "cell_type": "code",
   "execution_count": 21,
   "metadata": {},
   "outputs": [
    {
     "name": "stdout",
     "output_type": "stream",
     "text": [
      "[29, 13, 31, 1, 16, 18, 35, 23, 15, 19]\n",
      "[1, 13, 18, 15, 16, 31, 35, 23, 29, 19]\n",
      "[16, 18]\n"
     ]
    }
   ],
   "source": [
    "import heapq\n",
    "import random as r \n",
    "ls=r.sample(range(1, 40), 10)\n",
    "lsstart=ls*1\n",
    "heapq.heapify(ls)\n",
    "print(lsstart)\n",
    "print(list(ls))\n",
    "print(heapq.nsmallest (2, lsstart[4:7]))"
   ]
  },
  {
   "cell_type": "markdown",
   "metadata": {},
   "source": [
    "Задание: создать отсортированный список из 10 элементов, ввести некоторое чисто а. Найти позицию а, если вставлять его в список как можно правее, а затем добавить его в список как можно левее."
   ]
  },
  {
   "cell_type": "code",
   "execution_count": 23,
   "metadata": {},
   "outputs": [
    {
     "name": "stdout",
     "output_type": "stream",
     "text": [
      "64\n",
      "position :  5\n",
      "ls1 :  [2, 12, 15, 16, 64, 64, 89, 6543, 99999]\n"
     ]
    }
   ],
   "source": [
    "import bisect\n",
    "ls = [12,15,16,64,64,89,6543,99999]\n",
    "a=int(input())\n",
    "pos = bisect.bisect_right(ls, a)\n",
    "print('position : ', pos)\n",
    "bisect.insort_left(ls, 2)\n",
    "print('ls1 : ', ls)"
   ]
  },
  {
   "cell_type": "markdown",
   "metadata": {},
   "source": [
    "Задание: создать очередь с приоритетом из 3 элементов, вывести ее. Затем добавить еще один элемент и вывести конечный вариант очереди."
   ]
  },
  {
   "cell_type": "code",
   "execution_count": 34,
   "metadata": {},
   "outputs": [
    {
     "name": "stdout",
     "output_type": "stream",
     "text": [
      "0\n",
      "1\n",
      "2\n"
     ]
    }
   ],
   "source": [
    "import queue\n",
    "q = queue.PriorityQueue()\n",
    "for i in range(3):\n",
    "    q.put(i)\n",
    "while not q.empty():\n",
    "    print(q.get())"
   ]
  },
  {
   "cell_type": "code",
   "execution_count": 36,
   "metadata": {},
   "outputs": [
    {
     "name": "stdout",
     "output_type": "stream",
     "text": [
      "0\n",
      "1\n",
      "2\n",
      "8\n"
     ]
    }
   ],
   "source": [
    "for i in range(3):\n",
    "    q.put(i)\n",
    "q.put_nowait(8)\n",
    "while not q.empty():\n",
    "    print(q.get())"
   ]
  }
 ],
 "metadata": {
  "kernelspec": {
   "display_name": "Python 3",
   "language": "python",
   "name": "python3"
  },
  "language_info": {
   "codemirror_mode": {
    "name": "ipython",
    "version": 3
   },
   "file_extension": ".py",
   "mimetype": "text/x-python",
   "name": "python",
   "nbconvert_exporter": "python",
   "pygments_lexer": "ipython3",
   "version": "3.7.4"
  }
 },
 "nbformat": 4,
 "nbformat_minor": 2
}
