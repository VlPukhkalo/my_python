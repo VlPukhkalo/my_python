{
 "cells": [
  {
   "cell_type": "markdown",
   "metadata": {},
   "source": [
    "1 задание\n",
    "При помощи модуля time преобразовать текущее время в число секунд с начала эпохи, не используя метод time()."
   ]
  },
  {
   "cell_type": "code",
   "execution_count": 4,
   "metadata": {},
   "outputs": [
    {
     "data": {
      "text/plain": [
       "1602242064.0"
      ]
     },
     "execution_count": 4,
     "metadata": {},
     "output_type": "execute_result"
    }
   ],
   "source": [
    "import time\n",
    "time.mktime(time.gmtime())"
   ]
  },
  {
   "cell_type": "markdown",
   "metadata": {},
   "source": [
    "2 задание\n",
    "С помощью модуля datetime определить дату, которая наступит через 10 дней от текущей даты."
   ]
  },
  {
   "cell_type": "code",
   "execution_count": 10,
   "metadata": {},
   "outputs": [
    {
     "name": "stdout",
     "output_type": "stream",
     "text": [
      "2020-10-19 17:31:00.419385\n"
     ]
    }
   ],
   "source": [
    "from datetime import timedelta, datetime\n",
    "\n",
    "now = datetime.now()\n",
    "ten_days = timedelta(10)\n",
    "in_ten_days = now + ten_days\n",
    "print(in_ten_days)       "
   ]
  },
  {
   "cell_type": "markdown",
   "metadata": {},
   "source": [
    "3 задание\n",
    "При помощи модуля calendar вывести календарь на 2021 год в виде HTML таблицы в файле под названием \"my_calendar\". А также выяснить, является ли 2021 високосным."
   ]
  },
  {
   "cell_type": "code",
   "execution_count": 15,
   "metadata": {},
   "outputs": [
    {
     "name": "stdout",
     "output_type": "stream",
     "text": [
      "2021 год будет не високосным\n"
     ]
    }
   ],
   "source": [
    "import calendar\n",
    "calend3=calendar.HTMLCalendar(firstweekday=0)\n",
    "c=calend3.formatyear(2021, width=2)\n",
    "Html_file= open(\"my_calendar.html\",\"w\")\n",
    "Html_file.write(c)\n",
    "Html_file.close()\n",
    "if calendar.isleap(2021):\n",
    "    print('2021 год будет високосным')\n",
    "else:\n",
    "    print('2021 год будет не високосным')"
   ]
  }
 ],
 "metadata": {
  "kernelspec": {
   "display_name": "Python 3",
   "language": "python",
   "name": "python3"
  },
  "language_info": {
   "codemirror_mode": {
    "name": "ipython",
    "version": 3
   },
   "file_extension": ".py",
   "mimetype": "text/x-python",
   "name": "python",
   "nbconvert_exporter": "python",
   "pygments_lexer": "ipython3",
   "version": "3.7.4"
  }
 },
 "nbformat": 4,
 "nbformat_minor": 2
}
