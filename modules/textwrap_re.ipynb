{
 "cells": [
  {
   "cell_type": "markdown",
   "metadata": {},
   "source": [
    "1 задание"
   ]
  },
  {
   "cell_type": "code",
   "execution_count": 8,
   "metadata": {},
   "outputs": [
    {
     "name": "stdout",
     "output_type": "stream",
     "text": [
      "Sentence: Если лошадь сдохла, слезь\n",
      "Width: 12\n",
      "+--------------+\n",
      "| Если лошадь  |\n",
      "|   сдохла,    |\n",
      "|    слезь     |\n",
      "+--------------+\n"
     ]
    }
   ],
   "source": [
    "from textwrap import wrap\n",
    "\n",
    "s = input('Sentence: ')\n",
    "w = int(input('Width: '))\n",
    "\n",
    "print('+-' + '-' * w + '-+')\n",
    "\n",
    "for line in wrap(s, w):\n",
    "    print('| {0:^{1}} |'.format(line, w))\n",
    "\n",
    "print('+-' + '-'*(w) + '-+')"
   ]
  },
  {
   "cell_type": "markdown",
   "metadata": {},
   "source": [
    "2 задание"
   ]
  },
  {
   "cell_type": "code",
   "execution_count": 3,
   "metadata": {},
   "outputs": [
    {
     "name": "stdout",
     "output_type": "stream",
     "text": [
      "ивв6 76лоиым768оыим   1\n",
      "[6, 76, 768, 1]\n"
     ]
    }
   ],
   "source": [
    "import re\n",
    "s = input()\n",
    "nums = re.findall(r'\\d+', s)\n",
    "nums = [int(i) for i in nums]\n",
    "print(nums)"
   ]
  },
  {
   "cell_type": "markdown",
   "metadata": {},
   "source": [
    "3 задание"
   ]
  },
  {
   "cell_type": "code",
   "execution_count": 4,
   "metadata": {},
   "outputs": [
    {
     "name": "stdout",
     "output_type": "stream",
     "text": [
      "А роза упала на лапу Азора\n",
      "Дай, Джим, на счастье лапу мне\n"
     ]
    },
    {
     "data": {
      "text/plain": [
       "' лапу '"
      ]
     },
     "execution_count": 4,
     "metadata": {},
     "output_type": "execute_result"
    }
   ],
   "source": [
    "from difflib import SequenceMatcher as sm\n",
    "s1 = input()\n",
    "s2 = input()\n",
    "sm = sm(lambda c: c in set(' ,'), s1, s2)\n",
    "m = sm.find_longest_match(0, len(s1), 0, len(s2))\n",
    "s1[m.a:m.b]"
   ]
  }
 ],
 "metadata": {
  "kernelspec": {
   "display_name": "Python 3",
   "language": "python",
   "name": "python3"
  },
  "language_info": {
   "codemirror_mode": {
    "name": "ipython",
    "version": 3
   },
   "file_extension": ".py",
   "mimetype": "text/x-python",
   "name": "python",
   "nbconvert_exporter": "python",
   "pygments_lexer": "ipython3",
   "version": "3.7.4"
  }
 },
 "nbformat": 4,
 "nbformat_minor": 2
}
