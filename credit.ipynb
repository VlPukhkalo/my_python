{
 "cells": [
  {
   "cell_type": "code",
   "execution_count": 24,
   "metadata": {},
   "outputs": [
    {
     "name": "stdout",
     "output_type": "stream",
     "text": [
      "Санкт-Петербург : 93624\n"
     ]
    }
   ],
   "source": [
    "def from_csv_to_dict(name):\n",
    "    with open(name,'r',encoding='utf-8') as file:\n",
    "        l=file.readlines()\n",
    "        def f(str):\n",
    "            return str[:-1].split(',')\n",
    "        l=list(map(f,l))\n",
    "        d=[]\n",
    "        for i in l:\n",
    "            d.append(dict(zip(l[0],i)))\n",
    "        return d[1:]\n",
    "data=from_csv_to_dict('opendata.stat.txt')\n",
    "maximum=0\n",
    "for i in data:\n",
    "    if i.get('name')=='Количество заявок на потребительские кредиты' and i.get('region')!='Россия' and int(i.get('value'))>maximum:\n",
    "        maximum=int(i.get('value'))\n",
    "        region=i.get('region')\n",
    "print(region,\":\",maximum)"
   ]
  }
 ],
 "metadata": {
  "kernelspec": {
   "display_name": "Python 3",
   "language": "python",
   "name": "python3"
  },
  "language_info": {
   "codemirror_mode": {
    "name": "ipython",
    "version": 3
   },
   "file_extension": ".py",
   "mimetype": "text/x-python",
   "name": "python",
   "nbconvert_exporter": "python",
   "pygments_lexer": "ipython3",
   "version": "3.7.4"
  }
 },
 "nbformat": 4,
 "nbformat_minor": 2
}
