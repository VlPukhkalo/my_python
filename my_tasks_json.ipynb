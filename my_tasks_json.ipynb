{
 "cells": [
  {
   "cell_type": "code",
   "execution_count": null,
   "metadata": {},
   "outputs": [],
   "source": [
    "import json\n",
    "while True:\n",
    "    num=int(input('Введите число: '))\n",
    "    if num==1:\n",
    "        n=input(\"Добавьте задачу: \")\n",
    "        m=input('Добавьте категорию задачи: ')\n",
    "        l=input('Добавьте срок выполнения: ')\n",
    "        with open('todo.json','w') as file:\n",
    "            json.dump({n:{\"Категория\":m,\"Срок выполнения\":l}},file)\n",
    "        print('Задача добавлена','\\n','Простой todo: ','\\n','1. Добавить задачу.','\\n',' 2. Вывести список задач.','\\n',' 3. Выход.')\n",
    "    elif num==2:\n",
    "        with open('todo.json') as file:\n",
    "            f=json.load(file)\n",
    "        print(f)\n",
    "        print('Простой todo: ','\\n','1. Добавить задачу.','\\n',' 2. Вывести список задач.','\\n',' 3. Выход.')\n",
    "    else:\n",
    "        print('Выход из программы','\\n','Простой todo: ','\\n','1. Добавить задачу.','\\n',' 2. Вывести список задач.','\\n',' 3. Выход.')\n",
    "        break"
   ]
  }
 ],
 "metadata": {
  "kernelspec": {
   "display_name": "Python 3",
   "language": "python",
   "name": "python3"
  },
  "language_info": {
   "codemirror_mode": {
    "name": "ipython",
    "version": 3
   },
   "file_extension": ".py",
   "mimetype": "text/x-python",
   "name": "python",
   "nbconvert_exporter": "python",
   "pygments_lexer": "ipython3",
   "version": "3.7.4"
  }
 },
 "nbformat": 4,
 "nbformat_minor": 2
}
