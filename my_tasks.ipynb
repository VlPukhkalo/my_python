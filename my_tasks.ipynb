{
 "cells": [
  {
   "cell_type": "code",
   "execution_count": 18,
   "metadata": {},
   "outputs": [],
   "source": [
    "todo=[]"
   ]
  },
  {
   "cell_type": "code",
   "execution_count": null,
   "metadata": {},
   "outputs": [],
   "source": [
    "n=input(\"Добавьте задачу: \")\n",
    "m=input('Добавьте категорию задачи: ')\n",
    "l=input('Добавьте срок выполнения: ')\n",
    "c=input('Вывести список задач? ')\n",
    "p=('').join(['Задача:',n,\", Категория:\",m,\", Срок выполнения:\",l])\n",
    "todo.append(p)\n",
    "if c=='да':\n",
    "    print(todo)\n",
    "else:\n",
    "    print('Задача добавлена')"
   ]
  }
 ],
 "metadata": {
  "kernelspec": {
   "display_name": "Python 3",
   "language": "python",
   "name": "python3"
  },
  "language_info": {
   "codemirror_mode": {
    "name": "ipython",
    "version": 3
   },
   "file_extension": ".py",
   "mimetype": "text/x-python",
   "name": "python",
   "nbconvert_exporter": "python",
   "pygments_lexer": "ipython3",
   "version": "3.7.4"
  }
 },
 "nbformat": 4,
 "nbformat_minor": 2
}
