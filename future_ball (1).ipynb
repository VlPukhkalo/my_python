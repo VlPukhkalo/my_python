{
 "cells": [
  {
   "cell_type": "code",
   "execution_count": null,
   "metadata": {},
   "outputs": [],
   "source": [
    "import random as r\n",
    "while True:\n",
    "    ques=input('Задай вопрос: ')\n",
    "    if ques!='выход':\n",
    "        with open ('yesorno.txt','r',encoding='utf-8') as file:\n",
    "            yorn=file.readlines()\n",
    "            yorn=list(map(lambda i:i[:-1],yorn))\n",
    "            print(r.choice(yorn))\n",
    "    else:\n",
    "        break"
   ]
  }
 ],
 "metadata": {
  "kernelspec": {
   "display_name": "Python 3",
   "language": "python",
   "name": "python3"
  },
  "language_info": {
   "codemirror_mode": {
    "name": "ipython",
    "version": 3
   },
   "file_extension": ".py",
   "mimetype": "text/x-python",
   "name": "python",
   "nbconvert_exporter": "python",
   "pygments_lexer": "ipython3",
   "version": "3.7.4"
  }
 },
 "nbformat": 4,
 "nbformat_minor": 2
}
