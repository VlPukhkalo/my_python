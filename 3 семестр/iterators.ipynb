{
 "cells": [
  {
   "cell_type": "markdown",
   "metadata": {},
   "source": [
    "Задание 1"
   ]
  },
  {
   "cell_type": "code",
   "execution_count": 1,
   "metadata": {},
   "outputs": [
    {
     "name": "stdout",
     "output_type": "stream",
     "text": [
      "[1, 1, 1, 1, 2, 2, 1, 1, 1, 3, 3, 3, 3]\n",
      "[1, 1, 1, 1, 2, 2, 1, 1, 1, 3, 3, 3, 3]\n",
      "True\n"
     ]
    }
   ],
   "source": [
    "class CompressedList(list):\n",
    "    def __iter__(self):\n",
    "        return ComressedListIterator(self)\n",
    "\n",
    "class ComressedListIterator:\n",
    "    def __init__(self, arr):\n",
    "        self.arr = arr\n",
    "        self.counter = 0\n",
    "        self.index = 0\n",
    "  \n",
    "    def __next__(self):\n",
    "        if self.index >= len(self.arr):\n",
    "            raise StopIteration \n",
    "        # если все пары перебрали, raise StopIteration()\n",
    "        \n",
    "        elif self.counter < self.arr[self.index][1]-1:\n",
    "            self.counter+=1\n",
    "            return self.arr[self.index][0]\n",
    "        # если не все повторяющиеся элементы \n",
    "        # текущей пары self.index выдали - увеличиваем counter\n",
    "        # выдаем еще один элемент\n",
    "        \n",
    "        else:\n",
    "            self.index+=1\n",
    "            self.counter=0\n",
    "            return self.arr[self.index-1][0]\n",
    "        # если все элементы текущей пары выдали, переходим к \n",
    "        # следующей паре\n",
    "\n",
    "original = [1, 1, 1, 1, 2, 2, 1, 1, 1, 3, 3, 3, 3]\n",
    "compressed = CompressedList([(1, 4), (2, 2), (1, 3), (3, 4)])\n",
    "\n",
    "decompressed = [x for x in compressed]\n",
    "\n",
    "print(original)\n",
    "print(decompressed)\n",
    "print(original == decompressed)"
   ]
  },
  {
   "cell_type": "markdown",
   "metadata": {},
   "source": [
    "Задание 2"
   ]
  },
  {
   "cell_type": "code",
   "execution_count": 2,
   "metadata": {},
   "outputs": [],
   "source": [
    "from itertools import islice\n",
    "class ArithProgress:\n",
    "    def __init__(self, start,step,number):\n",
    "        self.start = start\n",
    "        self.step = step\n",
    "        self.number = number\n",
    "        self.counter=0\n",
    "\n",
    "    def __iter__(self):\n",
    "        while self.counter<self.number:\n",
    "            yield self.start\n",
    "            self.start = self.start+self.step\n",
    "            self.counter+=1"
   ]
  },
  {
   "cell_type": "code",
   "execution_count": 3,
   "metadata": {},
   "outputs": [
    {
     "data": {
      "text/plain": [
       "[1, 3, 5, 7, 9]"
      ]
     },
     "execution_count": 3,
     "metadata": {},
     "output_type": "execute_result"
    }
   ],
   "source": [
    "list(ArithProgress(1, 2, 5))"
   ]
  },
  {
   "cell_type": "markdown",
   "metadata": {},
   "source": [
    "Задание 3"
   ]
  },
  {
   "cell_type": "code",
   "execution_count": 5,
   "metadata": {},
   "outputs": [
    {
     "name": "stdout",
     "output_type": "stream",
     "text": [
      "[1, 1, 1, 1, 1, 2, 2, 1, 1, 1, 3, 3, 3, 3]\n",
      "[1, 1, 1, 1, 1, 2, 2, 1, 1, 1, 3, 3, 3, 3]\n",
      "True\n"
     ]
    }
   ],
   "source": [
    "class CompressedList:\n",
    "    def __init__(self, arr):\n",
    "        self.arr = arr\n",
    "        self.counter = 0\n",
    "        self.index = 0\n",
    "  \n",
    "    def __iter__(self):\n",
    "        while self.index < len(self.arr) and self.counter < self.arr[self.index][1]:\n",
    "            if self.counter < self.arr[self.index][1]-1:\n",
    "                yield self.arr[self.index][0]\n",
    "                self.counter+=1\n",
    "            else:\n",
    "                yield self.arr[self.index][0]\n",
    "                self.index+=1  \n",
    "                self.counter=0\n",
    "                \n",
    "\n",
    "original = [1, 1, 1, 1, 1, 2, 2, 1, 1, 1, 3, 3, 3, 3]\n",
    "compressed = CompressedList([(1, 5), (2, 2), (1, 3), (3, 4)])\n",
    "\n",
    "decompressed = list(compressed)\n",
    "\n",
    "print(original)\n",
    "print(decompressed)\n",
    "print(original == decompressed)"
   ]
  },
  {
   "cell_type": "code",
   "execution_count": null,
   "metadata": {},
   "outputs": [],
   "source": []
  }
 ],
 "metadata": {
  "kernelspec": {
   "display_name": "Python 3",
   "language": "python",
   "name": "python3"
  },
  "language_info": {
   "codemirror_mode": {
    "name": "ipython",
    "version": 3
   },
   "file_extension": ".py",
   "mimetype": "text/x-python",
   "name": "python",
   "nbconvert_exporter": "python",
   "pygments_lexer": "ipython3",
   "version": "3.7.4"
  }
 },
 "nbformat": 4,
 "nbformat_minor": 2
}
