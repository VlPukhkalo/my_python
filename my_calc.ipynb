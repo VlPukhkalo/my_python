{
 "cells": [
  {
   "cell_type": "code",
   "execution_count": 14,
   "metadata": {},
   "outputs": [
    {
     "name": "stdout",
     "output_type": "stream",
     "text": [
      "Введите числа: 3 r\n",
      "Введите знак: +\n",
      "Ошибка преобразвания типов данных!\n"
     ]
    }
   ],
   "source": [
    "numbers=input(\"Введите числа: \")\n",
    "sign=input(\"Введите знак: \")\n",
    "try:\n",
    "    print(eval(numbers[0]+sign+numbers[-1]))\n",
    "except ZeroDivisionError:\n",
    "    print(\"Ошибка деления на ноль!\")\n",
    "except NameError:\n",
    "    print(\"Ошибка преобразвания типов данных!\")"
   ]
  }
 ],
 "metadata": {
  "kernelspec": {
   "display_name": "Python 3",
   "language": "python",
   "name": "python3"
  },
  "language_info": {
   "codemirror_mode": {
    "name": "ipython",
    "version": 3
   },
   "file_extension": ".py",
   "mimetype": "text/x-python",
   "name": "python",
   "nbconvert_exporter": "python",
   "pygments_lexer": "ipython3",
   "version": "3.7.4"
  }
 },
 "nbformat": 4,
 "nbformat_minor": 2
}
