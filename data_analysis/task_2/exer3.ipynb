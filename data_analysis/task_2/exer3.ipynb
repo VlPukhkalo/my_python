{
 "cells": [
  {
   "cell_type": "code",
   "execution_count": 118,
   "metadata": {},
   "outputs": [],
   "source": [
    "import pandas as pd\n",
    "\n",
    "df = pd.read_csv('https://raw.githubusercontent.com/dm-fedorov/pandas_basic/master/data/it.csv')"
   ]
  },
  {
   "cell_type": "markdown",
   "metadata": {},
   "source": [
    "1 задание"
   ]
  },
  {
   "cell_type": "code",
   "execution_count": 119,
   "metadata": {},
   "outputs": [],
   "source": [
    "RU=df[df['З/п в валюте найма'].str[-1]=='₽']"
   ]
  },
  {
   "cell_type": "code",
   "execution_count": 120,
   "metadata": {},
   "outputs": [],
   "source": [
    "def f(i):\n",
    "    j=i\n",
    "    for c in list(i):\n",
    "        if c==',':\n",
    "            j=j.replace(c,'.')\n",
    "        elif c.isdigit():\n",
    "            pass\n",
    "        else:\n",
    "            j=j.replace(c,'')\n",
    "    return float(j)"
   ]
  },
  {
   "cell_type": "code",
   "execution_count": 121,
   "metadata": {},
   "outputs": [
    {
     "data": {
      "text/plain": [
       "190669.89"
      ]
     },
     "execution_count": 121,
     "metadata": {},
     "output_type": "execute_result"
    }
   ],
   "source": [
    "RuData=RU['З/п в валюте найма'].apply(f)\n",
    "round(RuData.mean(),2)"
   ]
  },
  {
   "cell_type": "markdown",
   "metadata": {},
   "source": [
    "2 задание"
   ]
  },
  {
   "cell_type": "code",
   "execution_count": null,
   "metadata": {},
   "outputs": [],
   "source": [
    "RU['З/п в валюте найма'] =RU['З/п в валюте найма'].apply(f)"
   ]
  },
  {
   "cell_type": "code",
   "execution_count": 124,
   "metadata": {},
   "outputs": [
    {
     "data": {
      "text/plain": [
       "Технология\n",
       "Scala    250000.0\n",
       "Name: З/п в валюте найма, dtype: float64"
      ]
     },
     "execution_count": 124,
     "metadata": {},
     "output_type": "execute_result"
    }
   ],
   "source": [
    "tech=RU.groupby('Технология').mean().sort_values(by='З/п в валюте найма',ascending=False)['З/п в валюте найма']\n",
    "tech.head(1)"
   ]
  },
  {
   "cell_type": "markdown",
   "metadata": {},
   "source": [
    "3 задание"
   ]
  },
  {
   "cell_type": "code",
   "execution_count": 137,
   "metadata": {},
   "outputs": [],
   "source": [
    "import datetime\n",
    "def age(date):\n",
    "    now=datetime.datetime.today()\n",
    "    dr=datetime.datetime.strptime(date, '%d.%m.%Y')\n",
    "    return ((now - dr).days)//365"
   ]
  },
  {
   "cell_type": "code",
   "execution_count": null,
   "metadata": {},
   "outputs": [],
   "source": [
    "RU[\"Возраст\"]=RU[\"Дата рождения\"].apply(age)"
   ]
  },
  {
   "cell_type": "code",
   "execution_count": 148,
   "metadata": {},
   "outputs": [
    {
     "data": {
      "text/plain": [
       "Возраст\n",
       "35    300000.0\n",
       "Name: З/п в валюте найма, dtype: float64"
      ]
     },
     "execution_count": 148,
     "metadata": {},
     "output_type": "execute_result"
    }
   ],
   "source": [
    "ages=RU.groupby('Возраст').mean().sort_values(by='З/п в валюте найма',ascending=False)['З/п в валюте найма']\n",
    "ages.head(1)"
   ]
  },
  {
   "cell_type": "markdown",
   "metadata": {},
   "source": [
    "4 задание"
   ]
  },
  {
   "cell_type": "code",
   "execution_count": 154,
   "metadata": {},
   "outputs": [
    {
     "data": {
      "text/plain": [
       "4      172 413,00 ₽\n",
       "9       9 500,00 zł\n",
       "11     12 000,00 zł\n",
       "12     10 500,00 zł\n",
       "13      9 500,00 zł\n",
       "18     200 000,00 ₽\n",
       "19     135 000,00 ₽\n",
       "37     13 000,00 zł\n",
       "38      lev6 446,00\n",
       "39     Ft650 000,00\n",
       "54     80 000,00 Kč\n",
       "Name: З/п в валюте найма, dtype: object"
      ]
     },
     "execution_count": 154,
     "metadata": {},
     "output_type": "execute_result"
    }
   ],
   "source": [
    "df[df[\"Вакансия\"].str.contains(\"Engineer\")]['З/п в валюте найма']"
   ]
  },
  {
   "cell_type": "code",
   "execution_count": null,
   "metadata": {},
   "outputs": [],
   "source": []
  }
 ],
 "metadata": {
  "kernelspec": {
   "display_name": "Python 3",
   "language": "python",
   "name": "python3"
  },
  "language_info": {
   "codemirror_mode": {
    "name": "ipython",
    "version": 3
   },
   "file_extension": ".py",
   "mimetype": "text/x-python",
   "name": "python",
   "nbconvert_exporter": "python",
   "pygments_lexer": "ipython3",
   "version": "3.7.4"
  }
 },
 "nbformat": 4,
 "nbformat_minor": 2
}
