{
 "cells": [
  {
   "cell_type": "code",
   "execution_count": 1,
   "metadata": {},
   "outputs": [],
   "source": [
    "def from_csv_to_dict(name):\n",
    "    try:\n",
    "        with open(name,'r',encoding='utf-8') as file:\n",
    "            l=file.readlines()\n",
    "            def f(str):\n",
    "                return str[:-1].split(', ')\n",
    "            l=list(map(f,l))\n",
    "            d=[]\n",
    "            for i in l:\n",
    "                d.append(dict(zip(l[0],i)))\n",
    "            return d[1:]\n",
    "    except:\n",
    "        print('Ошибка')"
   ]
  },
  {
   "cell_type": "code",
   "execution_count": 2,
   "metadata": {},
   "outputs": [
    {
     "data": {
      "text/plain": [
       "[{'name': 'Георгий', 'adress': 'Невский проспект', 'age': '22'},\n",
       " {'name': 'Иван', 'adress': 'пр. Ветеранов', 'age': '21'}]"
      ]
     },
     "execution_count": 2,
     "metadata": {},
     "output_type": "execute_result"
    }
   ],
   "source": [
    "from_csv_to_dict('names.txt')"
   ]
  },
  {
   "cell_type": "code",
   "execution_count": null,
   "metadata": {},
   "outputs": [],
   "source": []
  }
 ],
 "metadata": {
  "kernelspec": {
   "display_name": "Python 3",
   "language": "python",
   "name": "python3"
  },
  "language_info": {
   "codemirror_mode": {
    "name": "ipython",
    "version": 3
   },
   "file_extension": ".py",
   "mimetype": "text/x-python",
   "name": "python",
   "nbconvert_exporter": "python",
   "pygments_lexer": "ipython3",
   "version": "3.7.4"
  }
 },
 "nbformat": 4,
 "nbformat_minor": 2
}
